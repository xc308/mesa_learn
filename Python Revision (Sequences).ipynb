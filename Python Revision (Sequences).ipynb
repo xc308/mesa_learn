{
 "cells": [
  {
   "cell_type": "markdown",
   "metadata": {},
   "source": [
    "## Python Review (Sequences)\n",
    "\n",
    "\n",
    "    - data we care about in the real world does not exist on its own\n",
    "    - usually data is in the form of some collection or sequence, e.g.\n",
    "        - glorcery list: keep track of individual items we need to buy\n",
    "        - to-do list: organizes things we need to do\n",
    "    - Python provides us with many features to work with lists of all kinds of objects (numbers, words, etc.) as well as special kind of sequence, the character string, which you can think of as a sequence of individual letters.\n",
    "    \n",
    "    \n",
    "    - strings and lists are made up of smaller pieces, in the case of strings, they are made up of smaller strings each containing one character.\n",
    "    \n",
    "    - Types that are comprised of smaller pieces are called collection data types. We may want to treat a collection data type as a single entity (the whole),or we may want to access its parts.\n",
    "    \n",
    "    - operations that can be performed on sequences:\n",
    "        - picking out individual elements\n",
    "        - subsequences (slices)\n",
    "        - computing their length\n",
    "    - special functions that are only defined for strings\n",
    "    - one important difference between strings and lists: lists can be changed, while strings are immutable\n",
    "\n"
   ]
  },
  {
   "cell_type": "code",
   "execution_count": null,
   "metadata": {},
   "outputs": [],
   "source": []
  },
  {
   "cell_type": "markdown",
   "metadata": {},
   "source": [
    "## Learning Goals\n",
    "\n",
    "    - different operations that can be operated on strings, lists, and tuples\n",
    "\n",
    "\n",
    "## Objectives\n",
    "\n",
    "    - predict the output of spilt and join operations\n",
    "    - read and write expressions that use slices\n",
    "    - read and write expressions that use concatenation and repetition"
   ]
  },
  {
   "cell_type": "code",
   "execution_count": null,
   "metadata": {},
   "outputs": [],
   "source": [
    "\n"
   ]
  },
  {
   "cell_type": "markdown",
   "metadata": {},
   "source": [
    "## Strings (text)\n",
    "\n",
    "    - defined as sequential collections of characters, \"t i n y\"\n",
    "    - means that the individual characters that make up a string are in a particular order from left to right\n",
    "    - empty string: contains no characters, represented by '' or \"\"\n",
    "    "
   ]
  },
  {
   "cell_type": "code",
   "execution_count": 9,
   "metadata": {},
   "outputs": [
    {
     "data": {
      "text/plain": [
       "'Xiaoqing'"
      ]
     },
     "execution_count": 9,
     "metadata": {},
     "output_type": "execute_result"
    }
   ],
   "source": [
    "name = \"Xiaoqing Chen\"\n",
    "\n",
    "name[0]\n",
    "name[0:7] # [ )\n",
    "name[0:8]\n",
    "\n"
   ]
  },
  {
   "cell_type": "code",
   "execution_count": 12,
   "metadata": {},
   "outputs": [
    {
     "data": {
      "text/plain": [
       "13"
      ]
     },
     "execution_count": 12,
     "metadata": {},
     "output_type": "execute_result"
    }
   ],
   "source": [
    "len(name)"
   ]
  },
  {
   "cell_type": "code",
   "execution_count": null,
   "metadata": {},
   "outputs": [],
   "source": []
  },
  {
   "cell_type": "markdown",
   "metadata": {},
   "source": [
    "## Lists  [ string, float, integer, list   ]\n",
    "\n",
    "    - a list is sequential collection of Python data values, where each value is identified by an index\n",
    "    - the values that make up a list are called **elements**\n",
    "    - elements of a list can have any type\n",
    "    - for one list, items can be of different types\n",
    "    \n",
    "    - ways to create list:\n",
    "        - enclose elements in [ ]\n",
    "        \n",
    "    \n"
   ]
  },
  {
   "cell_type": "code",
   "execution_count": 10,
   "metadata": {},
   "outputs": [],
   "source": [
    "list_a = [10, 20, 30, 40]\n",
    "list_b = [\"apple\", \"banana\", \"tomato\"]\n",
    "list_c = [\"xiaoqing\", 33, \"shanghai\", \"cats\"]\n",
    "list_d = [\"xiaoqing\", 33, 7.5, [\"cats\", \"books\", \"lipsticks\"]] #contains a string, a float, an integer, and another list"
   ]
  },
  {
   "cell_type": "markdown",
   "metadata": {},
   "source": [
    "- But: when you create lists you should generally not mix types together. \n",
    "- A list of just strings or just integers or just floats is generally easier to deal with."
   ]
  },
  {
   "cell_type": "code",
   "execution_count": null,
   "metadata": {},
   "outputs": [],
   "source": []
  },
  {
   "cell_type": "markdown",
   "metadata": {},
   "source": [
    "## Tuples (  string, float, integer, list  )\n",
    "\n",
    "    - like list, is a sequence of items of any type, seperated by comma, enclosed in paranthesis\n",
    "    - tuples and lists is tuple uses (), while list uses []\n",
    "    \n",
    "    - Key difference between tuples and lists : tuples are immutable -- once the tuple is created, the contents of it cannot be changed\n",
    "    "
   ]
  },
  {
   "cell_type": "code",
   "execution_count": 11,
   "metadata": {},
   "outputs": [
    {
     "name": "stdout",
     "output_type": "stream",
     "text": [
      "<class 'tuple'>\n",
      "<class 'int'>\n"
     ]
    }
   ],
   "source": [
    "# To create a single element tuple, need to include the comma\n",
    "\n",
    "t = (5, )\n",
    "print(type(t))\n",
    "\n",
    "\n",
    "m = (5)\n",
    "print(type(m))"
   ]
  },
  {
   "cell_type": "code",
   "execution_count": null,
   "metadata": {},
   "outputs": [],
   "source": []
  },
  {
   "cell_type": "code",
   "execution_count": null,
   "metadata": {},
   "outputs": [],
   "source": []
  },
  {
   "cell_type": "markdown",
   "metadata": {},
   "source": [
    "## Index Operator: Working with the Characters of a String\n",
    "\n",
    "\n",
    "    - indexing operator selects a single character from a string\n",
    "    - 14 characters are indexed left to right from postion 0 to position 13\n",
    "    - positions are named from right to left using negative numbers where -1 is the rightmost index and -14 is the leftmost\n",
    "    - note: indexing returns a string — Python has no special type for a single character. It is just a string of length 1.\n",
    "    \n",
    "    "
   ]
  },
  {
   "cell_type": "markdown",
   "metadata": {},
   "source": [
    "## Index Operator: Accessing Elements of a List or Tuple\n",
    "\n",
    "    - same as above, need to be careful: The nth character is at index n-1. Make sure you are clear on what you mean!\n",
    "\n"
   ]
  },
  {
   "cell_type": "code",
   "execution_count": 13,
   "metadata": {},
   "outputs": [
    {
     "name": "stdout",
     "output_type": "stream",
     "text": [
      "87\n",
      "123\n",
      "8398\n"
     ]
    }
   ],
   "source": [
    "numbers = [17, 123, 87, 34, 66, 8398, 44]\n",
    "print(numbers[2])\n",
    "print(numbers[9-8])\n",
    "print(numbers[-2])\n",
    "\n"
   ]
  },
  {
   "cell_type": "code",
   "execution_count": 14,
   "metadata": {},
   "outputs": [
    {
     "name": "stdout",
     "output_type": "stream",
     "text": [
      "1.99\n",
      "100.98\n",
      "20.95\n"
     ]
    }
   ],
   "source": [
    "prices = (1.99, 2.00, 5.50, 20.95, 100.98)\n",
    "print(prices[0])\n",
    "print(prices[-1])\n",
    "print(prices[3-5])"
   ]
  },
  {
   "cell_type": "code",
   "execution_count": 15,
   "metadata": {},
   "outputs": [
    {
     "name": "stdout",
     "output_type": "stream",
     "text": [
      "3.14\n"
     ]
    }
   ],
   "source": [
    "alist = [3, 67, \"cat\", [56, 57, \"dog\"], [ ], 3.14, False]\n",
    "print(alist[5])"
   ]
  },
  {
   "cell_type": "markdown",
   "metadata": {},
   "source": [
    "sublist counts as one item"
   ]
  },
  {
   "cell_type": "code",
   "execution_count": null,
   "metadata": {},
   "outputs": [],
   "source": []
  },
  {
   "cell_type": "markdown",
   "metadata": {},
   "source": [
    "## Length "
   ]
  },
  {
   "cell_type": "code",
   "execution_count": 16,
   "metadata": {},
   "outputs": [
    {
     "name": "stdout",
     "output_type": "stream",
     "text": [
      "3\n",
      "5\n"
     ]
    }
   ],
   "source": [
    "alist =  [\"hello\", 2.0, 5]\n",
    "print(len(alist))\n",
    "print(len(alist[0]))"
   ]
  },
  {
   "cell_type": "code",
   "execution_count": null,
   "metadata": {},
   "outputs": [],
   "source": []
  },
  {
   "cell_type": "markdown",
   "metadata": {},
   "source": [
    "## The slice operator\n",
    "\n",
    "    - slice: A substring of a string is called a slice\n",
    "    - Selecting a slice is similar to selecting a character:\n",
    "    - The slice operator [n:m] returns the part of the string starting with the character at index n and go up to but not including the character at index m\n",
    "    - omit the first index (before the colon), the slice starts at the beginning of the string\n",
    "    - omit the second index, the slice goes to the end of the string.\n",
    "    \n",
    "    - slice a list also returns a list"
   ]
  },
  {
   "cell_type": "code",
   "execution_count": 18,
   "metadata": {},
   "outputs": [
    {
     "name": "stdout",
     "output_type": "stream",
     "text": [
      "Peter\n",
      "Paul\n",
      "Mary\n"
     ]
    }
   ],
   "source": [
    "singers = \"Peter, Paul, and Mary\"\n",
    "print(singers[0:5])  # [0,5)\n",
    "print(singers[7:11])\n",
    "print(singers[17:21])"
   ]
  },
  {
   "cell_type": "code",
   "execution_count": 20,
   "metadata": {},
   "outputs": [
    {
     "name": "stdout",
     "output_type": "stream",
     "text": [
      "ban\n",
      "ana\n",
      "banana\n"
     ]
    }
   ],
   "source": [
    "fruit = \"banana\"\n",
    "print(fruit[:3])\n",
    "print(fruit[3:])\n",
    "\n",
    "print(fruit[:])\n",
    "\n"
   ]
  },
  {
   "cell_type": "code",
   "execution_count": null,
   "metadata": {},
   "outputs": [],
   "source": []
  },
  {
   "cell_type": "markdown",
   "metadata": {},
   "source": [
    "## Concatenation and repetition\n",
    "\n",
    "\n",
    "    - + operator concatenates lists, but have to the same type\n",
    "    - * operator repeats the items in a list a given number of times."
   ]
  },
  {
   "cell_type": "code",
   "execution_count": 22,
   "metadata": {},
   "outputs": [
    {
     "name": "stdout",
     "output_type": "stream",
     "text": [
      "[0, 0, 0, 0]\n",
      "[1, 3, 5, 1, 3, 5, 1, 3, 5]\n"
     ]
    }
   ],
   "source": [
    "print([0]*4)\n",
    "\n",
    "\n",
    "alist = [1,3,5]\n",
    "print(alist * 3)"
   ]
  },
  {
   "cell_type": "code",
   "execution_count": null,
   "metadata": {},
   "outputs": [],
   "source": []
  },
  {
   "cell_type": "markdown",
   "metadata": {},
   "source": [
    "## Two methods for string and list -- Count and Index¶\n",
    "\n",
    "\n",
    "### Count\n",
    "\n",
    "    - count method returns the number of times that the argument occured in the string/list the method was used on\n",
    "    - count for string: the argument can only be a string\n",
    "    - count for list:  lists, the argument is not restricted to just strings\n"
   ]
  },
  {
   "cell_type": "code",
   "execution_count": 27,
   "metadata": {},
   "outputs": [
    {
     "name": "stdout",
     "output_type": "stream",
     "text": [
      "5\n",
      "2\n"
     ]
    }
   ],
   "source": [
    "a_str = \"I have had an apple on my desk before!\"\n",
    "print(a_str.count(\"e\"))\n",
    "\n",
    "print(a_str.count(\"ha\"))"
   ]
  },
  {
   "cell_type": "code",
   "execution_count": 33,
   "metadata": {},
   "outputs": [
    {
     "name": "stdout",
     "output_type": "stream",
     "text": [
      "0\n",
      "3\n",
      "0\n",
      "2\n"
     ]
    }
   ],
   "source": [
    "z = ['atoms', 4, 'neutron', 6, 'proton', 4, 'electron', 4, 'electron', 'atoms']\n",
    "print(z.count(\"4\")) # z has no string 4 \n",
    "print(z.count(4))\n",
    "print(z.count(\"a\")) # z has no string a \n",
    "print(z.count(\"electron\"))"
   ]
  },
  {
   "cell_type": "code",
   "execution_count": 35,
   "metadata": {},
   "outputs": [
    {
     "name": "stdout",
     "output_type": "stream",
     "text": [
      "2\n"
     ]
    }
   ],
   "source": [
    "qu = \"wow, welcome week! Were you wanting to go?\"\n",
    "ty = qu.count(\"we\")\n",
    "print(ty)"
   ]
  },
  {
   "cell_type": "markdown",
   "metadata": {},
   "source": [
    "- there's a difference between \"we\" and \"We\""
   ]
  },
  {
   "cell_type": "code",
   "execution_count": null,
   "metadata": {},
   "outputs": [],
   "source": []
  },
  {
   "cell_type": "markdown",
   "metadata": {},
   "source": [
    "### Index\n",
    "\n",
    "    - index method on string,  it takes only strings and any type when it's used on lists\n",
    "    - for both strings and lists, index returns the leftmost index where the argument is found\n",
    "    - if unable to find the argument in a list or string, return error"
   ]
  },
  {
   "cell_type": "code",
   "execution_count": 32,
   "metadata": {},
   "outputs": [
    {
     "name": "stdout",
     "output_type": "stream",
     "text": [
      "14\n",
      "9\n",
      "0\n",
      "3\n",
      "6\n"
     ]
    }
   ],
   "source": [
    "music = \"Pull out your music and dancing can begin\"\n",
    "bio = [\"Metatarsal\", \"Metatarsal\", \"Fibula\", [], \"Tibia\", \"Tibia\", 43, \"Femur\", \"Occipital\", \"Metatarsal\"]\n",
    "\n",
    "print(music.index(\"m\"))\n",
    "print(music.index(\"your\"))\n",
    "\n",
    "print(bio.index(\"Metatarsal\"))\n",
    "print(bio.index([]))\n",
    "print(bio.index(43))"
   ]
  },
  {
   "cell_type": "code",
   "execution_count": null,
   "metadata": {},
   "outputs": [],
   "source": []
  },
  {
   "cell_type": "markdown",
   "metadata": {},
   "source": [
    "## Two most useful methods on string -- Splitting and Joining Strings\n",
    "\n",
    "    - spilt method: break a string into a list of words\n",
    "        - By default, any number of whitespace characters is considered a word boundary    \n",
    "        - An optional argument called a delimiter can be used to specify which characters to use as word boundaries.\n",
    "  \n",
    "    - join method: \n",
    "        - choose a desired separator string, (often called the glue) \n",
    "        - and join the list with the glue between each of the elements.\n",
    "\n",
    "\n"
   ]
  },
  {
   "cell_type": "code",
   "execution_count": 36,
   "metadata": {},
   "outputs": [
    {
     "name": "stdout",
     "output_type": "stream",
     "text": [
      "['The', 'rain', 'in', 'Spain....']\n"
     ]
    }
   ],
   "source": [
    "song = \"The rain in Spain....\"\n",
    "wds = song.split()\n",
    "print(wds)"
   ]
  },
  {
   "cell_type": "code",
   "execution_count": 37,
   "metadata": {},
   "outputs": [
    {
     "name": "stdout",
     "output_type": "stream",
     "text": [
      "['The r', 'n in Sp', 'n....']\n"
     ]
    }
   ],
   "source": [
    "# use \"ai\" as delimeter\n",
    "\n",
    "song = \"The rain in Spain....\"\n",
    "wds = song.split(\"ai\")\n",
    "print(wds)\n"
   ]
  },
  {
   "cell_type": "markdown",
   "metadata": {},
   "source": [
    "- delimeter doesn't appear in the result"
   ]
  },
  {
   "cell_type": "code",
   "execution_count": null,
   "metadata": {},
   "outputs": [],
   "source": []
  },
  {
   "cell_type": "code",
   "execution_count": 38,
   "metadata": {},
   "outputs": [
    {
     "name": "stdout",
     "output_type": "stream",
     "text": [
      "red/blue/green\n"
     ]
    }
   ],
   "source": [
    "wds = [\"red\", \"blue\", \"green\"]\n",
    "glue = \"/\"\n",
    "s = glue.join(wds)\n",
    "print(s)"
   ]
  },
  {
   "cell_type": "code",
   "execution_count": 43,
   "metadata": {},
   "outputs": [
    {
     "name": "stdout",
     "output_type": "stream",
     "text": [
      "xiaoqing^-^chen\n",
      "xiaoqing***chen\n",
      "xiaoqingchen\n"
     ]
    }
   ],
   "source": [
    "wds = [\"xiaoqing\", \"chen\"]\n",
    "glue = \"^-^\"\n",
    "print(glue.join(wds))\n",
    "\n",
    "\n",
    "print(\"***\".join(wds))  # multi-character glue\n",
    "\n",
    "print(\"\".join(wds))     # empty glue\n"
   ]
  },
  {
   "cell_type": "code",
   "execution_count": null,
   "metadata": {},
   "outputs": [],
   "source": []
  },
  {
   "cell_type": "code",
   "execution_count": 46,
   "metadata": {},
   "outputs": [
    {
     "name": "stdout",
     "output_type": "stream",
     "text": [
      "The condition of weather is  5 characters\n",
      "The condition of weather is  5 characters\n",
      "The condition of weather is  6 characters\n",
      "The condition of weather is  5 characters\n",
      "The condition of weather is  5 characters\n",
      "The condition of weather is  6 characters\n",
      "The condition of weather is  5 characters\n",
      "The condition of weather is  7 characters\n",
      "The first char is sunny\n",
      "The last char is hailing\n"
     ]
    }
   ],
   "source": [
    "weather = [\"sunny\", \"rainy\", \"cloudy\", \"windy\", \"forgy\", \"stormy\", \"snowy\", \"hailing\"]\n",
    "\n",
    "for condition in weather:\n",
    "    print(\"The condition of weather is \", len(condition), \"characters\")\n",
    "\n",
    "first_char = weather[0]\n",
    "last_char = weather[-1]\n",
    "print(\"The first char is \" + first_char)\n",
    "print(\"The last char is \" + last_char)"
   ]
  },
  {
   "cell_type": "code",
   "execution_count": 48,
   "metadata": {},
   "outputs": [
    {
     "name": "stdout",
     "output_type": "stream",
     "text": [
      "6\n",
      "8\n",
      "4\n"
     ]
    }
   ],
   "source": [
    "phrases = [\"Btw – this is what we have been up to, and hopefully you want to be involved. \",\n",
    "          \"Also – here is a document with some ideas for the RS RAMP work which I really hope you want to be involved in (need more statisticians!).\",\n",
    "          \"Very much in draft of ideas format '(and yes, it has to be in Word – haha!)'\"]\n",
    "\n",
    "\n",
    "for sentence in phrases:\n",
    "    print(sentence.count(\"t\"))"
   ]
  },
  {
   "cell_type": "code",
   "execution_count": null,
   "metadata": {},
   "outputs": [],
   "source": []
  },
  {
   "cell_type": "markdown",
   "metadata": {},
   "source": [
    "### Collection of mistakes"
   ]
  },
  {
   "cell_type": "code",
   "execution_count": 49,
   "metadata": {},
   "outputs": [
    {
     "data": {
      "text/plain": [
       "list"
      ]
     },
     "execution_count": 49,
     "metadata": {},
     "output_type": "execute_result"
    }
   ],
   "source": [
    "l = ['w', '7', 0, 9]\n",
    "m = l[1:2] # slice of a list is also a list\n",
    "type(m)"
   ]
  },
  {
   "cell_type": "code",
   "execution_count": 50,
   "metadata": {},
   "outputs": [
    {
     "data": {
      "text/plain": [
       "str"
      ]
     },
     "execution_count": 50,
     "metadata": {},
     "output_type": "execute_result"
    }
   ],
   "source": [
    "l = ['w', '7', 0, 9]\n",
    "m = l[1]  # index a list returns corresponding elemtent\n",
    "type(m)"
   ]
  },
  {
   "cell_type": "code",
   "execution_count": 53,
   "metadata": {},
   "outputs": [
    {
     "name": "stdout",
     "output_type": "stream",
     "text": [
      "['My', ' what a lovely day']\n"
     ]
    },
    {
     "data": {
      "text/plain": [
       "list"
      ]
     },
     "execution_count": 53,
     "metadata": {},
     "output_type": "execute_result"
    }
   ],
   "source": [
    "# split returns a list\n",
    "\n",
    "b = \"My, what a lovely day\"\n",
    "x = b.split(',')\n",
    "\n",
    "print(x)\n",
    "type(x)\n"
   ]
  },
  {
   "cell_type": "code",
   "execution_count": null,
   "metadata": {},
   "outputs": [],
   "source": [
    "b = \"My, what a lovely day\"\n",
    "x = b.split(',')\n",
    "z = \"\".join(x)\n",
    "y = z.split()\n",
    "a = \"\".join(y)"
   ]
  },
  {
   "cell_type": "markdown",
   "metadata": {},
   "source": [
    "sting slit gets list, list join back to get string"
   ]
  },
  {
   "cell_type": "code",
   "execution_count": null,
   "metadata": {},
   "outputs": [],
   "source": []
  },
  {
   "cell_type": "code",
   "execution_count": null,
   "metadata": {},
   "outputs": [],
   "source": []
  },
  {
   "cell_type": "code",
   "execution_count": null,
   "metadata": {},
   "outputs": [],
   "source": []
  },
  {
   "cell_type": "code",
   "execution_count": null,
   "metadata": {},
   "outputs": [],
   "source": []
  },
  {
   "cell_type": "code",
   "execution_count": null,
   "metadata": {},
   "outputs": [],
   "source": []
  },
  {
   "cell_type": "code",
   "execution_count": null,
   "metadata": {},
   "outputs": [],
   "source": []
  },
  {
   "cell_type": "code",
   "execution_count": null,
   "metadata": {},
   "outputs": [],
   "source": []
  }
 ],
 "metadata": {
  "kernelspec": {
   "display_name": "Python 3",
   "language": "python",
   "name": "python3"
  },
  "language_info": {
   "codemirror_mode": {
    "name": "ipython",
    "version": 3
   },
   "file_extension": ".py",
   "mimetype": "text/x-python",
   "name": "python",
   "nbconvert_exporter": "python",
   "pygments_lexer": "ipython3",
   "version": "3.7.3"
  }
 },
 "nbformat": 4,
 "nbformat_minor": 2
}
