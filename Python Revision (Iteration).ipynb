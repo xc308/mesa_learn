{
 "cells": [
  {
   "cell_type": "markdown",
   "metadata": {},
   "source": [
    "## Intro:\n",
    "\n",
    "\n",
    "    - with collections (lists and strings), lots of computation invloves processing one item at a time. \n",
    "        - for strings, this means that we would like to process one character at a time\n",
    "        - we start at the beginning, select each character in turn, do something to it, and continue until the end\n",
    "        - e.g we start at the beginning, select each character in turn, do something to it, and continue until the end\n",
    "        - This pattern of processing is called a traversal, or iteration over the characters. \n",
    "        \n",
    "        - we can also process each of the items in a list,  one at a time, iterating over the items in the list.\n",
    "        \n",
    "        "
   ]
  },
  {
   "cell_type": "markdown",
   "metadata": {},
   "source": [
    "## The for loop\n",
    "\n",
    "    -  overall syntax is for <loop_var_name> in <sequence>:\n",
    "        - a sequence (e.g, a string or a list or a tuple)\n",
    "\n",
    "Exmaple: let’s say we have some friends, and we’d like to send them each an email inviting them to our party.\n"
   ]
  },
  {
   "cell_type": "code",
   "execution_count": 1,
   "metadata": {},
   "outputs": [
    {
     "name": "stdout",
     "output_type": "stream",
     "text": [
      "Hi Julie come to my birthday party!\n",
      "Hi Jack come to my birthday party!\n",
      "Hi Justin come to my birthday party!\n",
      "Hi Cecilia come to my birthday party!\n",
      "Hi Zuki come to my birthday party!\n",
      "Hi Thandi come to my birthday party!\n",
      "Hi Paris come to my birthday party!\n"
     ]
    }
   ],
   "source": [
    "for name in [\"Julie\", \"Jack\", \"Justin\", \"Cecilia\", \"Zuki\", \"Thandi\", \"Paris\"]:\n",
    "    print(\"Hi\", name, \"come to my birthday party!\")"
   ]
  },
  {
   "cell_type": "code",
   "execution_count": null,
   "metadata": {},
   "outputs": [],
   "source": []
  },
  {
   "cell_type": "markdown",
   "metadata": {},
   "source": [
    "### Strings and for loop\n"
   ]
  },
  {
   "cell_type": "code",
   "execution_count": 2,
   "metadata": {},
   "outputs": [
    {
     "name": "stdout",
     "output_type": "stream",
     "text": [
      "G\n",
      "o\n",
      " \n",
      "t\n",
      "o\n",
      " \n",
      "t\n",
      "h\n",
      "e\n",
      " \n",
      "s\n",
      "w\n",
      "i\n",
      "m\n",
      "m\n",
      "i\n",
      "n\n",
      "g\n",
      " \n",
      "p\n",
      "o\n",
      "o\n",
      "l\n",
      ".\n"
     ]
    }
   ],
   "source": [
    "for one_char in \"Go to the swimming pool.\":\n",
    "    print(one_char)"
   ]
  },
  {
   "cell_type": "markdown",
   "metadata": {},
   "source": [
    "### Note: space and dot are also a char in the string."
   ]
  },
  {
   "cell_type": "code",
   "execution_count": 3,
   "metadata": {},
   "outputs": [
    {
     "name": "stdout",
     "output_type": "stream",
     "text": [
      "I want to swim\n",
      "I want to swim\n",
      "I want to swim\n",
      "I want to swim\n",
      "I want to swim\n",
      "I want to swim\n",
      "I want to swim\n",
      "I want to swim\n",
      "I want to swim\n",
      "I want to swim\n",
      "I want to swim\n",
      "I want to swim\n",
      "I want to swim\n",
      "I want to swim\n",
      "I want to swim\n"
     ]
    }
   ],
   "source": [
    "s = \"I want to swim.\"\n",
    "\n",
    "for char in s:\n",
    "    print(\"I want to swim\")"
   ]
  },
  {
   "cell_type": "code",
   "execution_count": null,
   "metadata": {},
   "outputs": [],
   "source": []
  },
  {
   "cell_type": "markdown",
   "metadata": {},
   "source": [
    "## Lists and for loop\n",
    "\n",
    "    - a list is a sequence of items, so for loop iterates each item in the list"
   ]
  },
  {
   "cell_type": "code",
   "execution_count": 7,
   "metadata": {},
   "outputs": [
    {
     "name": "stdout",
     "output_type": "stream",
     "text": [
      "I like  apples\n",
      "I like  oranges\n",
      "I like  bananas\n",
      "I like  cherrys\n"
     ]
    }
   ],
   "source": [
    "fruits = [\"apple\", \"orange\", \"banana\", \"cherry\"]\n",
    "\n",
    "for a_fruit in fruits:\n",
    "    print(\"I like \", a_fruit + \"s\")"
   ]
  },
  {
   "cell_type": "markdown",
   "metadata": {},
   "source": [
    "## Use a range function to generate a sequence to iterate over"
   ]
  },
  {
   "cell_type": "code",
   "execution_count": 11,
   "metadata": {},
   "outputs": [
    {
     "data": {
      "text/plain": [
       "[0, 1, 2]"
      ]
     },
     "execution_count": 11,
     "metadata": {},
     "output_type": "execute_result"
    }
   ],
   "source": [
    "list(range(3))"
   ]
  },
  {
   "cell_type": "code",
   "execution_count": 12,
   "metadata": {},
   "outputs": [
    {
     "name": "stdout",
     "output_type": "stream",
     "text": [
      "This will execute 3 times.\n",
      "I know!\n",
      "This will execute 3 times.\n",
      "I know!\n",
      "This will execute 3 times.\n",
      "I know!\n",
      "Now the end.\n"
     ]
    }
   ],
   "source": [
    "for _ in range(3):\n",
    "    print(\"This will execute 3 times.\")\n",
    "    print(\"I know!\")\n",
    "    \n",
    "print(\"Now the end.\")"
   ]
  },
  {
   "cell_type": "code",
   "execution_count": null,
   "metadata": {},
   "outputs": [],
   "source": []
  },
  {
   "cell_type": "markdown",
   "metadata": {},
   "source": [
    "## The Accumulator Pattern¶\n",
    "\n",
    "    - The anatomy of the accumulation pattern includes:\n",
    "        - initializing an “accumulator” variable to an initial value\n",
    "        - iterating (e.g., traversing the items in a sequence)\n",
    "        - updating the accumulator variable on each iteration (i.e., when processing each item in the sequence)\n",
    "        "
   ]
  },
  {
   "cell_type": "code",
   "execution_count": 1,
   "metadata": {},
   "outputs": [
    {
     "name": "stdout",
     "output_type": "stream",
     "text": [
      "55\n"
     ]
    }
   ],
   "source": [
    "nums = [1, 2, 3, 4, 5, 6, 7, 8, 9, 10]\n",
    "\n",
    "accum = 0\n",
    "for w in nums:\n",
    "    accum = accum + w\n",
    "print(accum)"
   ]
  },
  {
   "cell_type": "code",
   "execution_count": 2,
   "metadata": {},
   "outputs": [
    {
     "name": "stdout",
     "output_type": "stream",
     "text": [
      "range(5): \n",
      "0\n",
      "1\n",
      "2\n",
      "3\n",
      "4\n"
     ]
    }
   ],
   "source": [
    "print(\"range(5): \")\n",
    "for i in range(5):\n",
    "    print(i)\n",
    "\n"
   ]
  },
  {
   "cell_type": "code",
   "execution_count": 3,
   "metadata": {},
   "outputs": [
    {
     "name": "stdout",
     "output_type": "stream",
     "text": [
      "range(0,5): \n",
      "0\n",
      "1\n",
      "2\n",
      "3\n",
      "4\n"
     ]
    }
   ],
   "source": [
    "print(\"range(0,5): \")\n",
    "for i in range(0, 5):\n",
    "    print(i)"
   ]
  },
  {
   "cell_type": "code",
   "execution_count": 4,
   "metadata": {},
   "outputs": [
    {
     "name": "stdout",
     "output_type": "stream",
     "text": [
      "[0, 1, 2, 3, 4]\n",
      "[0, 1, 2, 3, 4]\n"
     ]
    }
   ],
   "source": [
    "# Notice the casting of `range` to the `list`\n",
    "print(list(range(5)))\n",
    "print(list(range(0,5)))"
   ]
  },
  {
   "cell_type": "code",
   "execution_count": 5,
   "metadata": {},
   "outputs": [
    {
     "data": {
      "text/plain": [
       "[1, 2, 3, 4, 5, 6, 7, 8, 9, 10]"
      ]
     },
     "execution_count": 5,
     "metadata": {},
     "output_type": "execute_result"
    }
   ],
   "source": [
    "list(range(1, 11))"
   ]
  },
  {
   "cell_type": "code",
   "execution_count": 6,
   "metadata": {},
   "outputs": [
    {
     "data": {
      "text/plain": [
       "[0, 1, 2, 3, 4, 5, 6, 7, 8, 9, 10]"
      ]
     },
     "execution_count": 6,
     "metadata": {},
     "output_type": "execute_result"
    }
   ],
   "source": [
    "list(range(11))"
   ]
  },
  {
   "cell_type": "code",
   "execution_count": 7,
   "metadata": {},
   "outputs": [
    {
     "name": "stdout",
     "output_type": "stream",
     "text": [
      "10\n"
     ]
    }
   ],
   "source": [
    "count = 0\n",
    "for w in range(1, 11):\n",
    "    count += 1\n",
    "print(count)"
   ]
  },
  {
   "cell_type": "code",
   "execution_count": null,
   "metadata": {},
   "outputs": [],
   "source": []
  },
  {
   "cell_type": "markdown",
   "metadata": {},
   "source": [
    "Example: make a list from 0 to 40, and assign it to variable numbers. Sum up all the elements in the list, the sum is assigned to variable name sum1"
   ]
  },
  {
   "cell_type": "code",
   "execution_count": 10,
   "metadata": {},
   "outputs": [
    {
     "name": "stdout",
     "output_type": "stream",
     "text": [
      "820\n"
     ]
    }
   ],
   "source": [
    "numbers = list(range(0, 41))\n",
    "\n",
    "sum1 = 0\n",
    "for count in numbers:\n",
    "    sum1 = sum1 + count\n",
    "    \n",
    "print(sum1)"
   ]
  },
  {
   "cell_type": "code",
   "execution_count": null,
   "metadata": {},
   "outputs": [],
   "source": []
  },
  {
   "cell_type": "code",
   "execution_count": null,
   "metadata": {},
   "outputs": [],
   "source": []
  },
  {
   "cell_type": "code",
   "execution_count": null,
   "metadata": {},
   "outputs": [],
   "source": []
  },
  {
   "cell_type": "markdown",
   "metadata": {},
   "source": [
    "Example: make a list from 0 to 41, assign it to variable numbs. Count the total number of elements in the list without using len()"
   ]
  },
  {
   "cell_type": "code",
   "execution_count": 11,
   "metadata": {},
   "outputs": [
    {
     "name": "stdout",
     "output_type": "stream",
     "text": [
      "41\n"
     ]
    }
   ],
   "source": [
    "numbs = list(range(0, 41))\n",
    "\n",
    "\n",
    "for count in numbs:\n",
    "    count = count + 1  # star from 0, when iterator = 0, there's 1 element, so real count is iterator + 1\n",
    "print(count)"
   ]
  },
  {
   "cell_type": "code",
   "execution_count": 12,
   "metadata": {},
   "outputs": [
    {
     "name": "stdout",
     "output_type": "stream",
     "text": [
      "40\n"
     ]
    }
   ],
   "source": [
    "for count in range(1, 41):\n",
    "    count\n",
    "print(count)"
   ]
  },
  {
   "cell_type": "code",
   "execution_count": null,
   "metadata": {},
   "outputs": [],
   "source": []
  },
  {
   "cell_type": "code",
   "execution_count": null,
   "metadata": {},
   "outputs": [],
   "source": []
  },
  {
   "cell_type": "markdown",
   "metadata": {},
   "source": [
    "## raversal and the for Loop: By Index¶\n",
    "\n",
    "    - iterating through the positions, or indexes of a sequence, rather than through the items themselves.\n",
    "    - the list ['apple', 'pear', 'apricot', 'cherry', 'peach']. ‘apple’ is at position 0, ‘pear’ at position 1, and ‘peach’ at position 4.\n",
    "    - Thus, we can iterate through the indexes by generating a sequence of them, using the range function."
   ]
  },
  {
   "cell_type": "code",
   "execution_count": 10,
   "metadata": {},
   "outputs": [
    {
     "name": "stdout",
     "output_type": "stream",
     "text": [
      "0 apple\n",
      "1 pear\n",
      "2 apricot\n",
      "3 cherry\n",
      "4 peach\n"
     ]
    }
   ],
   "source": [
    "fruits = ['apple', 'pear', 'apricot', 'cherry', 'peach']\n",
    "for n in range(5):\n",
    "    print(n, fruits[n])"
   ]
  },
  {
   "cell_type": "code",
   "execution_count": 11,
   "metadata": {},
   "outputs": [
    {
     "name": "stdout",
     "output_type": "stream",
     "text": [
      "0 apple\n",
      "1 pear\n",
      "2 apricot\n",
      "3 cherry\n",
      "4 peach\n"
     ]
    }
   ],
   "source": [
    "#  can use the len function to provide the bound for range\n",
    "\n",
    "fruits = ['apple', 'pear', 'apricot', 'cherry', 'peach']\n",
    "\n",
    "for n in range(len(fruits)):  # use the len function to provide the bound for range\n",
    "    print(n, fruits[n])"
   ]
  },
  {
   "cell_type": "markdown",
   "metadata": {},
   "source": [
    "However, this is not the only way to iterate through sequence, by iterating postion and extract the items at each of the positions. Python's code is easier."
   ]
  },
  {
   "cell_type": "code",
   "execution_count": 12,
   "metadata": {},
   "outputs": [
    {
     "name": "stdout",
     "output_type": "stream",
     "text": [
      "apple\n",
      "pear\n",
      "apricot\n",
      "cherry\n",
      "peach\n"
     ]
    }
   ],
   "source": [
    "for a_fruit in fruits:\n",
    "    print(a_fruit)"
   ]
  },
  {
   "cell_type": "code",
   "execution_count": 13,
   "metadata": {},
   "outputs": [
    {
     "data": {
      "text/plain": [
       "0"
      ]
     },
     "execution_count": 13,
     "metadata": {},
     "output_type": "execute_result"
    }
   ],
   "source": [
    "0%2"
   ]
  },
  {
   "cell_type": "code",
   "execution_count": 14,
   "metadata": {},
   "outputs": [
    {
     "data": {
      "text/plain": [
       "1"
      ]
     },
     "execution_count": 14,
     "metadata": {},
     "output_type": "execute_result"
    }
   ],
   "source": [
    "1%2"
   ]
  },
  {
   "cell_type": "code",
   "execution_count": null,
   "metadata": {},
   "outputs": [],
   "source": []
  },
  {
   "cell_type": "code",
   "execution_count": null,
   "metadata": {},
   "outputs": [],
   "source": []
  },
  {
   "cell_type": "markdown",
   "metadata": {},
   "source": [
    "## Nested Iteration: Image Processing\n",
    "\n",
    "    - A digital image: \n",
    "    \n",
    "        -is a collection of small, discreate picture called pixels, \n",
    "        - these pixels are organized in two dimensional grid\n",
    "        - each pixel represents the smallest amount of picture information that is available\n",
    "        - sometimes, these pixels appears as \"small dots\"\n",
    "        - Each image (grid of pixels) has its own width and its own height\n",
    "        - The width is the number of columns and the height is the number of rows,  \n",
    "        - we can name the pixels in the grid by using the column number and row number, so if there are 20 rows, they will be named 0,1,2, and so on through 19. \n",
    "    \n",
    "    \n",
    "    "
   ]
  },
  {
   "cell_type": "markdown",
   "metadata": {},
   "source": [
    "## The RGB Color Model\n",
    "\n",
    "\n",
    "    - Each pixel of the image will represent a single color.\n",
    "    - The specific color depends on a formula that mixes various amounts of three basic colors: red, green, and blue.\n",
    "    - This technique for creating color is known as the RGB Color Model.\n",
    "    - The amount of each color, sometimes called the intensity of the color, allows us to have very fine control over the resulting color.\n",
    "        - The minimum intensity value for a basic color is 0\n",
    "        - The maximum intensity is 255\n",
    "        - means that there are actually 256 different amounts of intensity for each basic color, \n",
    "        - can create 256^3 distinct colors using the RGB Color Model.\n",
    "        - “Black” is represented by a pixel having no basic color (0,0,0)\n",
    "        - “White” has maximum values for all three basic color components (256, 256, 256)\n",
    "    \n",
    "    \n",
    "    - In order to manipulate an image, we need to be able to access individual pixels.\n",
    "    - This capability is provided by a module called image, \n",
    "    - The image module defines two classes: Image and Pixel.\n",
    "    - Each Pixel object has three attributes: the red intensity, the green intensity, and the blue intensity"
   ]
  },
  {
   "cell_type": "code",
   "execution_count": 1,
   "metadata": {},
   "outputs": [],
   "source": [
    "\n",
    "import image\n"
   ]
  },
  {
   "cell_type": "code",
   "execution_count": 3,
   "metadata": {},
   "outputs": [
    {
     "ename": "AttributeError",
     "evalue": "module 'image' has no attribute 'Pixel'",
     "output_type": "error",
     "traceback": [
      "\u001b[0;31m---------------------------------------------------------------------------\u001b[0m",
      "\u001b[0;31mAttributeError\u001b[0m                            Traceback (most recent call last)",
      "\u001b[0;32m<ipython-input-3-cb6c89e7f37e>\u001b[0m in \u001b[0;36m<module>\u001b[0;34m\u001b[0m\n\u001b[1;32m      1\u001b[0m \u001b[0;31m# first create a pixel with 45 units of red, 76 units of green, and 200 units of blue.\u001b[0m\u001b[0;34m\u001b[0m\u001b[0;34m\u001b[0m\u001b[0;34m\u001b[0m\u001b[0m\n\u001b[1;32m      2\u001b[0m \u001b[0;34m\u001b[0m\u001b[0m\n\u001b[0;32m----> 3\u001b[0;31m \u001b[0mp\u001b[0m \u001b[0;34m=\u001b[0m \u001b[0mimage\u001b[0m\u001b[0;34m.\u001b[0m\u001b[0mPixel\u001b[0m\u001b[0;34m(\u001b[0m\u001b[0;36m45\u001b[0m\u001b[0;34m,\u001b[0m \u001b[0;36m76\u001b[0m\u001b[0;34m,\u001b[0m \u001b[0;36m200\u001b[0m\u001b[0;34m)\u001b[0m\u001b[0;34m\u001b[0m\u001b[0;34m\u001b[0m\u001b[0m\n\u001b[0m",
      "\u001b[0;31mAttributeError\u001b[0m: module 'image' has no attribute 'Pixel'"
     ]
    }
   ],
   "source": [
    "# first create a pixel with 45 units of red, 76 units of green, and 200 units of blue. \n",
    "\n",
    "p = image.Pixel(45, 76, 200)  # the closer to 0, the darker the color will be\n",
    "print(p.getRed())\n",
    "p.setRed(66)\n",
    "print(p.getRed())\n",
    "p.setBlue(p.getGreen())\n",
    "print(p.getGreen(), p.getBlue())\n",
    "\n"
   ]
  },
  {
   "cell_type": "markdown",
   "metadata": {},
   "source": [
    "### Image object\n",
    "\n",
    "    - To access the pixel of real image, we need to first create an Image object\n",
    "    - The image object has an attribute corresponding to the width, the height, and the collection of pixels in the image.\n",
    "    - Two ways to create an Image object:\n",
    "        - 1st: an Image object can be made from the files that store digital images, e.g, image.Image(“cy.png”)\n",
    "        - 2nd: an EmptyImage has a width and a height. However, the pixel collection consists of only “White” pixels, e.g. image.EmptyImage(100,200) \n",
    "            \n",
    "        - getWidth and getHeight methods: ask an image object to return its size using the \n",
    "        - getPixel method: get a pixel from a particular location in the image\n",
    "        - setPixel method: change the pixel at a particular location\n",
    "        "
   ]
  },
  {
   "cell_type": "code",
   "execution_count": 4,
   "metadata": {},
   "outputs": [
    {
     "ename": "AttributeError",
     "evalue": "module 'image' has no attribute 'Image'",
     "output_type": "error",
     "traceback": [
      "\u001b[0;31m---------------------------------------------------------------------------\u001b[0m",
      "\u001b[0;31mAttributeError\u001b[0m                            Traceback (most recent call last)",
      "\u001b[0;32m<ipython-input-4-73ece213f130>\u001b[0m in \u001b[0;36m<module>\u001b[0;34m\u001b[0m\n\u001b[0;32m----> 1\u001b[0;31m \u001b[0mimg\u001b[0m \u001b[0;34m=\u001b[0m \u001b[0mimage\u001b[0m\u001b[0;34m.\u001b[0m\u001b[0mImage\u001b[0m\u001b[0;34m(\u001b[0m\u001b[0;34m\"try.png\"\u001b[0m\u001b[0;34m)\u001b[0m\u001b[0;34m\u001b[0m\u001b[0;34m\u001b[0m\u001b[0m\n\u001b[0m",
      "\u001b[0;31mAttributeError\u001b[0m: module 'image' has no attribute 'Image'"
     ]
    }
   ],
   "source": [
    "img = image.Image(\"try.png\")   # Create an Image object from the file try.png.\n",
    "img_epty = image.EmptyImage(100, 200)"
   ]
  },
  {
   "cell_type": "code",
   "execution_count": null,
   "metadata": {},
   "outputs": [],
   "source": [
    "w = img.getWidth()\n",
    "h = img.getHeight()\n",
    "p = img.getPixel(35, 86) # return pixel at column 35, row 86\n",
    "img.setPixel(35, 86, mp) # set the pixel at col 35, row 86 to be mp\n"
   ]
  },
  {
   "cell_type": "code",
   "execution_count": null,
   "metadata": {},
   "outputs": [],
   "source": []
  },
  {
   "cell_type": "markdown",
   "metadata": {},
   "source": [
    "## Image Processing and Nested Iteration\n",
    "\n",
    "\n",
    "    -  to be able to systematically visit all of the rows and columns in the image, the best way to do this is to use nested iteration."
   ]
  },
  {
   "cell_type": "code",
   "execution_count": 5,
   "metadata": {},
   "outputs": [
    {
     "name": "stdout",
     "output_type": "stream",
     "text": [
      "0 0\n",
      "0 1\n",
      "0 2\n",
      "1 0\n",
      "1 1\n",
      "1 2\n",
      "2 0\n",
      "2 1\n",
      "2 2\n",
      "3 0\n",
      "3 1\n",
      "3 2\n",
      "4 0\n",
      "4 1\n",
      "4 2\n"
     ]
    }
   ],
   "source": [
    "for i in range(5):\n",
    "    for j in range(3):\n",
    "        print(i, j)"
   ]
  },
  {
   "cell_type": "markdown",
   "metadata": {},
   "source": [
    "- The for i iteration is the outer iteration \n",
    "- the for j iteration is the inner iteration\n",
    "- Each pass through the outer iteration will result in the complete processing of the inner iteration from beginning to end\n",
    "- means: for each value of i, all values of j will occur."
   ]
  },
  {
   "cell_type": "markdown",
   "metadata": {},
   "source": [
    "### Goal with image processing : to visit each pixel\n",
    "\n",
    "    - for each row, processing all cols\n",
    "    - Note: \n",
    "        - outer for loop processes the rows, from 0 up to but not including the height of the image\n",
    "        - inner for loop processes all the cols, from 0 up to but not including the width of the image"
   ]
  },
  {
   "cell_type": "code",
   "execution_count": null,
   "metadata": {},
   "outputs": [],
   "source": [
    "for row in range(img.getHeight()):\n",
    "    for col in range(img.getWidth()):\n",
    "        # do something with the pixle at the position (row, col)"
   ]
  },
  {
   "cell_type": "markdown",
   "metadata": {},
   "source": [
    "### negative image\n",
    "\n",
    "    - means that each pixel will be the opposite of what it was originally\n",
    "    - oposite:\n",
    "        - In the RGB color model, he opposite of the red component as the difference between the original red and 255, \n",
    "        - e.g. if the original red component was 50, then negative red value would be 255-50 or 205\n",
    "        - means pixels with a lot of red will have negatives with little red and pixels with little red will have negatives with a lot.\n",
    "        - do the same for the blue and green as well"
   ]
  },
  {
   "cell_type": "code",
   "execution_count": null,
   "metadata": {},
   "outputs": [],
   "source": [
    "import image\n",
    "\n",
    "\n",
    "img = image.Image(\"luther.jpg\")\n",
    "\n",
    "win = image.getWin(img.getWidth, img.getHeight())\n",
    "img.draw(win)\n",
    "img.setDelay(1,15)\n",
    "\n",
    "\n",
    "for row in range(img.getHeight()):\n",
    "    for col in range(img.getWidth()):\n",
    "        \n",
    "        p = img.getPixel(col, row)   # get a pixel\n",
    "        \n",
    "        newRed = 255 - p.getRed()       # extract r,g,b intesity\n",
    "        newGreen = 255 - p.getGreen()\n",
    "        newBlue = 255 - p.getBlue()\n",
    "        new_pixel = image.Pixel(newRed, newGreen, newBlue)    # create a new pixel\n",
    "         \n",
    "        img.setPixel(col, row, new_pixel)   # insert the new pixel into the original position\n",
    "        \n",
    "img.draw(win) # with draw with a newly set pixel image object: img\n",
    "    \n",
    "win.exitonclik()\n"
   ]
  },
  {
   "cell_type": "markdown",
   "metadata": {},
   "source": [
    "- take the original pixel, \n",
    "- extract the red, green, and blue intensities, \n",
    "- and then create a new pixel from them. \n",
    "- The new pixel is inserted into an empty image at the same location as the original."
   ]
  },
  {
   "cell_type": "code",
   "execution_count": null,
   "metadata": {},
   "outputs": [],
   "source": []
  },
  {
   "cell_type": "markdown",
   "metadata": {},
   "source": [
    "### Summing up model\n",
    "\n",
    "    - initialize the final sum \n",
    "    - add iterator onto the sum to update the sum after each iteration\n",
    "    "
   ]
  },
  {
   "cell_type": "code",
   "execution_count": 7,
   "metadata": {},
   "outputs": [
    {
     "name": "stdout",
     "output_type": "stream",
     "text": [
      "The total sum of all the numbers is : 0\n",
      "The total sum of all the numbers is : 1\n",
      "The total sum of all the numbers is : 3\n",
      "The total sum of all the numbers is : 6\n",
      "The total sum of all the numbers is : 10\n",
      "The total sum of all the numbers is : 15\n",
      "The total sum of all the numbers is : 21\n",
      "The total sum of all the numbers is : 28\n",
      "The total sum of all the numbers is : 36\n",
      "The total sum of all the numbers is : 45\n"
     ]
    }
   ],
   "source": [
    "tot = 0\n",
    "for w in range(10):\n",
    "    tot = tot + w\n",
    "    print(\"The total sum of all the numbers is :\", tot)"
   ]
  },
  {
   "cell_type": "code",
   "execution_count": 8,
   "metadata": {},
   "outputs": [
    {
     "name": "stdout",
     "output_type": "stream",
     "text": [
      "The total sum of all the numbers is : 45\n"
     ]
    }
   ],
   "source": [
    "tot = 0\n",
    "for w in range(10):\n",
    "    tot = tot + w\n",
    "print(\"The total sum of all the numbers is :\", tot)"
   ]
  },
  {
   "cell_type": "code",
   "execution_count": null,
   "metadata": {},
   "outputs": [],
   "source": []
  },
  {
   "cell_type": "markdown",
   "metadata": {},
   "source": [
    "## Naming Variables in For Loops\n",
    "\n",
    "    - Use singular nouns for the iterator variable, which is also called the loop variable (things like “song”, “book”, “post”, “letter”, “word”).\n",
    "    - Use plural nouns for the sequence variable (things like “songs”, “books”, “posts”, “letters”, “words”)."
   ]
  },
  {
   "cell_type": "markdown",
   "metadata": {},
   "source": [
    "## Iterables\n",
    "\n",
    "    - So far, strings, lists, and tuples are all iterable sequences\n",
    "    - later, some Python objects that act like sequences for the purposes of iteration with a for loop, \n",
    "        - e.g. file objects and iterators\n",
    "        \n",
    "    - for apple in apples:\n",
    "        # do sth\n",
    "        \n",
    "        apple is iterator; \n",
    "        apples is iterable."
   ]
  },
  {
   "cell_type": "code",
   "execution_count": null,
   "metadata": {},
   "outputs": [],
   "source": []
  },
  {
   "cell_type": "code",
   "execution_count": null,
   "metadata": {},
   "outputs": [],
   "source": []
  },
  {
   "cell_type": "markdown",
   "metadata": {},
   "source": [
    "#### Exercise1: Get the user to enter some text and print it out in reverse order."
   ]
  },
  {
   "cell_type": "code",
   "execution_count": 19,
   "metadata": {},
   "outputs": [
    {
     "name": "stdout",
     "output_type": "stream",
     "text": [
      "Please enter one sentence: I love you\n",
      "uoy evol I\n"
     ]
    }
   ],
   "source": [
    "sen_str = input(\"Please enter one sentence: \")\n",
    "\n",
    "output = \"\"\n",
    "for a_char in sen_str:\n",
    "     output = a_char + output\n",
    "print(output)"
   ]
  },
  {
   "cell_type": "code",
   "execution_count": null,
   "metadata": {},
   "outputs": [],
   "source": []
  },
  {
   "cell_type": "markdown",
   "metadata": {},
   "source": [
    "#### Exercise2:  Write a program that uses a for loop to print\n",
    "- One of the months of the year is January\n",
    "- One of the months of the year is February\n",
    "- One of the months of the year is March\n",
    "- etc …"
   ]
  },
  {
   "cell_type": "code",
   "execution_count": 20,
   "metadata": {},
   "outputs": [
    {
     "name": "stdout",
     "output_type": "stream",
     "text": [
      "One of the months of the year is Jan\n",
      "One of the months of the year is Feb\n",
      "One of the months of the year is Mar\n",
      "One of the months of the year is Apr\n",
      "One of the months of the year is May\n",
      "One of the months of the year is Jun\n"
     ]
    }
   ],
   "source": [
    "month_list = [\"Jan\", \"Feb\", \"Mar\", \"Apr\", \"May\", \"Jun\"]\n",
    "\n",
    "\n",
    "for a_mon in month_list:\n",
    "    print(\"One of the months of the year is \"+ a_mon)"
   ]
  },
  {
   "cell_type": "code",
   "execution_count": null,
   "metadata": {},
   "outputs": [],
   "source": []
  },
  {
   "cell_type": "markdown",
   "metadata": {},
   "source": [
    "#### Exercise3: Write a program that asks the user for the number of sides, the length of the side, the color, and the fill color of a regular polygon. The program should draw the polygon and then fill it in."
   ]
  },
  {
   "cell_type": "code",
   "execution_count": null,
   "metadata": {},
   "outputs": [],
   "source": [
    "import turtle\n",
    "ali = turtle.Turtle()\n",
    "wn = turtle.Screen()\n",
    "\n",
    "numb_sides_str = input(\"Please enter the number os sides of the polygon\")\n",
    "len_side_str = input(\"Please enter the length of the side: \")\n",
    "\n",
    "num_side_int = int(numb_sides_str)\n",
    "len_side_int = int(len_side_str)\n",
    "\n",
    "for s in range(num_side_int):\n",
    "    ali.forward(len_side_str)\n",
    "    deg = 360 - 360 / num_side_int\n",
    "    ali.left(deg)\n",
    "    \n",
    "\n",
    "\n",
    "wn.exitonclick()"
   ]
  },
  {
   "cell_type": "code",
   "execution_count": null,
   "metadata": {},
   "outputs": [],
   "source": []
  },
  {
   "cell_type": "code",
   "execution_count": null,
   "metadata": {},
   "outputs": [],
   "source": []
  },
  {
   "cell_type": "markdown",
   "metadata": {},
   "source": [
    "#### Exercise4: A drunk pirate makes a random turn and then takes 100 steps forward, makes another random turn, takes another 100 steps, turns another random amount, etc. A social science student records the angle of each turn before the next 100 steps are taken. Her experimental data is 160, -43, 270, -97, -43, 200, -940, 17, -86. (Positive angles are counter-clockwise.) Use a turtle to draw the path taken by our drunk friend. After the pirate is done walking, print the current heading. Assume that the turtle originally has a heading of 0 and accumulate the changes in heading to print out the final. Your solution should work for any sequence of experimental data."
   ]
  },
  {
   "cell_type": "code",
   "execution_count": null,
   "metadata": {},
   "outputs": [],
   "source": [
    "import turtle\n",
    "\n",
    "wn = turtle.Screen()\n",
    "\n",
    "ali = turtle.Turtle()\n",
    "\n",
    "degree = [160, -43, 270, -97, -43, 200, -940, 17, -86]\n",
    "\n",
    "deg_tot = 0\n",
    "for a_deg in degree:\n",
    "    ali.left(a_deg)\n",
    "    ali.foward(100)\n",
    "    deg_tot = deg_tot + a_deg\n",
    "\n",
    "print(\"The final current heading is:\", deg_tot)\n",
    "    "
   ]
  },
  {
   "cell_type": "code",
   "execution_count": null,
   "metadata": {},
   "outputs": [],
   "source": []
  },
  {
   "cell_type": "markdown",
   "metadata": {},
   "source": [
    "#### Exercise 5: Write a program that will print out a greeting to each student in the list. This list should also keep track of how many students have been greeted and note that each time a new student has been greeted. "
   ]
  },
  {
   "cell_type": "code",
   "execution_count": 23,
   "metadata": {},
   "outputs": [
    {
     "name": "stdout",
     "output_type": "stream",
     "text": [
      "Hello Jay\n",
      "Up to now  1 student(s) have been greeted.\n",
      "Hello Jack\n",
      "Up to now  2 student(s) have been greeted.\n",
      "Hello Helen\n",
      "Up to now  3 student(s) have been greeted.\n",
      "Hello Gavin\n",
      "Up to now  4 student(s) have been greeted.\n",
      "Hello Skylar\n",
      "Up to now  5 student(s) have been greeted.\n"
     ]
    }
   ],
   "source": [
    "name_list = [\"Jay\", \"Jack\", \"Helen\", \"Gavin\", \"Skylar\"]\n",
    "\n",
    "numb = 0\n",
    "for a_name in name_list:\n",
    "    print(\"Hello\" , a_name)\n",
    "    numb = numb + 1\n",
    "    print(\"Up to now \", numb,  \"student(s) have been greeted.\")"
   ]
  },
  {
   "cell_type": "code",
   "execution_count": null,
   "metadata": {},
   "outputs": [],
   "source": []
  },
  {
   "cell_type": "markdown",
   "metadata": {},
   "source": [
    "#### Exercise 6: addition_str is a string with a list of numbers separated by the + sign. Write code that uses the accumulation pattern to take the sum of all of the numbers and assigns it to sum_val (an integer). (You should use the .split(\"+\") function to split by \"+\" and int() to cast to an integer)."
   ]
  },
  {
   "cell_type": "code",
   "execution_count": 29,
   "metadata": {},
   "outputs": [
    {
     "name": "stdout",
     "output_type": "stream",
     "text": [
      "37\n"
     ]
    }
   ],
   "source": [
    "addition_str = \"2+5+10+20\"\n",
    "\n",
    "num_str = addition_str.split(\"+\")\n",
    "type(num_str)\n",
    "\n",
    "\n",
    "numb_sum = 0\n",
    "for a_num in num_str:\n",
    "    a_numb_int = int(a_num)\n",
    "    numb_sum = numb_sum + a_numb_int\n",
    "    sum_val = numb_sum\n",
    "print(sum_val)\n",
    "    "
   ]
  },
  {
   "cell_type": "code",
   "execution_count": 31,
   "metadata": {},
   "outputs": [
    {
     "name": "stdout",
     "output_type": "stream",
     "text": [
      "['2', '5', '10', '20']\n"
     ]
    }
   ],
   "source": [
    "addition_str = \"2+5+10+20\"\n",
    "\n",
    "num_str = addition_str.split(\"+\")\n",
    "print(num_str)"
   ]
  },
  {
   "cell_type": "code",
   "execution_count": null,
   "metadata": {},
   "outputs": [],
   "source": []
  },
  {
   "cell_type": "markdown",
   "metadata": {},
   "source": [
    "#### Exercise 7: week_temps_f is a string with a list of fahrenheit temperatures separated by the , sign. Write code that uses the accumulation pattern to compute the average (sum divided by number of items) and assigns it to avg_temp. Do not hard code your answer (i.e., make your code compute both the sum or the number of items in week_temps_f) (You should use the .split(\",\") function to split by \",\" and float() to cast to a float)."
   ]
  },
  {
   "cell_type": "code",
   "execution_count": 34,
   "metadata": {},
   "outputs": [
    {
     "name": "stdout",
     "output_type": "stream",
     "text": [
      "The average temperature is : 80.67142857142858\n"
     ]
    }
   ],
   "source": [
    "week_temps_f = \"75.1,77.7,83.2,82.5,81.0,79.5,85.7\"\n",
    "\n",
    "temp_str = week_temps_f.split(\",\")\n",
    "\n",
    "\n",
    "sum_temp = 0\n",
    "count_temp = 0\n",
    "for temp in temp_str:\n",
    "    temp_flo = float(temp)\n",
    "    sum_temp = sum_temp + temp_flo\n",
    "    count_temp = count_temp + 1\n",
    "    avg_temp = sum_temp / count_temp\n",
    "    \n",
    "print(\"The average temperature is :\", avg_temp)"
   ]
  },
  {
   "cell_type": "code",
   "execution_count": null,
   "metadata": {},
   "outputs": [],
   "source": []
  },
  {
   "cell_type": "code",
   "execution_count": null,
   "metadata": {},
   "outputs": [],
   "source": []
  },
  {
   "cell_type": "code",
   "execution_count": null,
   "metadata": {},
   "outputs": [],
   "source": []
  },
  {
   "cell_type": "code",
   "execution_count": null,
   "metadata": {},
   "outputs": [],
   "source": []
  },
  {
   "cell_type": "code",
   "execution_count": null,
   "metadata": {},
   "outputs": [],
   "source": []
  },
  {
   "cell_type": "code",
   "execution_count": null,
   "metadata": {},
   "outputs": [],
   "source": [
    "\n",
    "\n"
   ]
  },
  {
   "cell_type": "code",
   "execution_count": null,
   "metadata": {},
   "outputs": [],
   "source": []
  }
 ],
 "metadata": {
  "kernelspec": {
   "display_name": "Python 3",
   "language": "python",
   "name": "python3"
  },
  "language_info": {
   "codemirror_mode": {
    "name": "ipython",
    "version": 3
   },
   "file_extension": ".py",
   "mimetype": "text/x-python",
   "name": "python",
   "nbconvert_exporter": "python",
   "pygments_lexer": "ipython3",
   "version": "3.7.3"
  }
 },
 "nbformat": 4,
 "nbformat_minor": 2
}
