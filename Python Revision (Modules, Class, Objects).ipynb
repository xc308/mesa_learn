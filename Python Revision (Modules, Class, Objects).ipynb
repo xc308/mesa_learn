{
 "cells": [
  {
   "cell_type": "markdown",
   "metadata": {},
   "source": [
    "## A revision code \n",
    "#### Turn the seconds entered into hours, minutes, and seconds"
   ]
  },
  {
   "cell_type": "code",
   "execution_count": 4,
   "metadata": {},
   "outputs": [
    {
     "name": "stdout",
     "output_type": "stream",
     "text": [
      "Please enter into the seconds you want to convert:798\n",
      "hours: 0 minutes: 13 seconds: 18\n"
     ]
    }
   ],
   "source": [
    "str_seconds = input(\"Please enter into the seconds you want to convert:\")\n",
    "total_seconds = int(str_seconds)\n",
    "\n",
    "\n",
    "hours = total_seconds // 3600\n",
    "remaining_secs = total_seconds % 3600\n",
    "\n",
    "minutes = remaining_secs // 60\n",
    "final_secs_remain = remaining_secs % 60\n",
    "\n",
    "\n",
    "print(\"hours:\", hours, \"minutes:\", minutes, \"seconds:\", final_secs_remain )"
   ]
  },
  {
   "cell_type": "code",
   "execution_count": null,
   "metadata": {},
   "outputs": [],
   "source": []
  },
  {
   "cell_type": "markdown",
   "metadata": {},
   "source": [
    "## Dot method\n",
    "\n",
    "    - if an object is followed by a dot, then it will look for the attributes or methods of the object\n",
    "    \n",
    "    - so format: object.method( ) e.g. alex.forward(150)"
   ]
  },
  {
   "cell_type": "markdown",
   "metadata": {},
   "source": [
    "## Class vs instance of that class\n",
    "\n",
    "#### import turtle \n",
    "\n",
    "    - tutle is a module\n",
    "    - it has different classes, e.g. Screen( ), Turtle( )\n",
    "\n",
    "#### wn = turtle.Screen(  ) \n",
    "    - Screen( ) is a class, and wn is an instance of that class\n",
    "    - wn is an instance of this Screen class, which is also called \"object\"\n",
    "\n",
    "#### alex = turtle.Turtle(   )\n",
    "    - Turtle( ) is a class, and alex is an instance of that class\n",
    "    - alex is an instance of this Turtle clas, which is also an \"object\"\n",
    "    "
   ]
  },
  {
   "cell_type": "code",
   "execution_count": 5,
   "metadata": {},
   "outputs": [],
   "source": [
    "import turtle         # load the module turtle\n",
    "\n",
    "wn = turtle.Sreen()  # create a drawing window\n",
    "alex = turtle.Turtle() # create a turtle named as alex\n",
    "alex.forward(150)  # object alex then invoke its method \"forward\"\n",
    "alex.left(90)  # "
   ]
  },
  {
   "cell_type": "code",
   "execution_count": null,
   "metadata": {},
   "outputs": [],
   "source": []
  },
  {
   "cell_type": "markdown",
   "metadata": {},
   "source": [
    "## Methods & Attributes (Properties) of objects\n",
    "\n",
    "\n",
    "    - An object can have methods (the things it can do), which is a special kind of function--the instance itself is also passed as a parameter\n",
    "    \n",
    "    - It can also have attributes (properties), e.g. alex.colour(\"red\"), alex. tailsize(3), wn.bgcolor(\"white\")"
   ]
  },
  {
   "cell_type": "code",
   "execution_count": null,
   "metadata": {},
   "outputs": [],
   "source": [
    "import turtle\n",
    "\n",
    "\n",
    "wn = turtle.Screen()  # under module turtle, apply Screen() class to create an object wn\n",
    "wn.bgcolour(\"yellow\") # object wn has attributes bgcolour\n",
    "\n",
    "tess = turtle.Turtle() # under module turtle, apply Turtle() class to create an object tess\n",
    "tess.colour(\"red\")  # object tess has colour attributes\n",
    "tess.pensize(4)   # object tess has tail width attributes\n",
    "\n",
    "tess.forward(50)  # object tess has methods forward\n",
    "tess.left(120)\n",
    "tess.forward(100)\n",
    "\n",
    "\n",
    "wn.exitonclick()  # wn object has method exit on click, wait until click on the window to exit the window"
   ]
  },
  {
   "cell_type": "code",
   "execution_count": null,
   "metadata": {},
   "outputs": [],
   "source": []
  },
  {
   "cell_type": "markdown",
   "metadata": {},
   "source": [
    "## A herd of turtles\n",
    "\n",
    "\n",
    "    - Each class (type) Turtle can have many turtles\n",
    "    \n",
    "    - Each turtle is an independent object, and is called **instance** of Turtle class(type)\n",
    "    \n",
    "    - Each instance has its own methods and attributes\n",
    "    \n",
    "    \n",
    "    "
   ]
  },
  {
   "cell_type": "code",
   "execution_count": null,
   "metadata": {},
   "outputs": [],
   "source": [
    "import turtle\n",
    "\n",
    "wn = turtle.Screen()\n",
    "wn.bgcolor(\"skyblue\")\n",
    "\n",
    "\n",
    "alex = turtle.Turtle()\n",
    "alex.colour(\"DarkGreen\")\n",
    "alex.pensize(10)\n",
    "alex.speed(1)\n",
    "\n",
    "tess = turtle.Turtle()\n",
    "tess.colour(\"Maroon\")\n",
    "tess.pensize(15)\n",
    "\n",
    "alex.forward(120)\n",
    "alex.left(120)\n",
    "alex.forward(120)\n",
    "alex.left(120)\n",
    "alex.forward(120)\n",
    "\n",
    "\n",
    "tess.forward(50)\n",
    "tess.left(90)\n",
    "tess.forward(50)\n",
    "tess.left(90)\n",
    "tess.forward(50)\n",
    "tess.left(90)\n",
    "tess.forward(50)\n",
    "tess.left(90)\n",
    "\n",
    "\n",
    "wn.exitonclick()\n",
    "\n"
   ]
  },
  {
   "cell_type": "code",
   "execution_count": null,
   "metadata": {},
   "outputs": [],
   "source": []
  },
  {
   "cell_type": "markdown",
   "metadata": {},
   "source": [
    "## For loop for repetition"
   ]
  },
  {
   "cell_type": "code",
   "execution_count": 1,
   "metadata": {},
   "outputs": [],
   "source": [
    "import turtle\n",
    "\n",
    "wn = turtle.Screen()\n",
    "\n",
    "\n",
    "ali = turtle.Turtle()\n",
    "\n",
    "distance = 50\n",
    "degree = 90\n",
    "for _ in range(10):\n",
    "    ali.forward(distance)\n",
    "    ali.right(degree)\n",
    "    distance += 10\n",
    "    \n",
    "    \n",
    " "
   ]
  },
  {
   "cell_type": "code",
   "execution_count": null,
   "metadata": {},
   "outputs": [],
   "source": []
  },
  {
   "cell_type": "markdown",
   "metadata": {},
   "source": [
    "## A few more 'turtle' methods and observations\n",
    "\n",
    "\n",
    "    - Turtle methods use negative distance and angles, e.g. \n",
    "        - ali.forward(-100): move backward \n",
    "        - ali.left(-90) : turn right 90\n",
    "        \n",
    "    - Turtle's pen can be pick up and down, allow us to move to a different place (next step) without drawing lines\n",
    "        - ali.up()\n",
    "        - ali.down()\n",
    "        \n",
    "    - Turtle can have different shapes, e.g.\n",
    "        - circle, squre, rectangle, triangle, turtle\n",
    "        - ali.shape(\"turtle\")\n",
    "        \n",
    "        \n",
    "    - Turtle can have different speed, e.g.\n",
    "        - 1(slowest), 10(fastest)\n",
    "        \n",
    "        \n",
    "    - Turtle can stamp its footprint on canvas, even when pen is up"
   ]
  },
  {
   "cell_type": "code",
   "execution_count": null,
   "metadata": {},
   "outputs": [],
   "source": [
    "alex.up()\n",
    "alex.forward(100)     # this moves alex, but no line is drawn\n",
    "alex.down()\n",
    "\n",
    "\n",
    "ali.shape(\"turtle\")\n",
    "\n",
    "ali.speed(10) # fastest speed\n",
    "\n"
   ]
  },
  {
   "cell_type": "code",
   "execution_count": null,
   "metadata": {},
   "outputs": [],
   "source": [
    "import turtle\n",
    "\n",
    "wn = turtle.Screen()\n",
    "wn.bgcolor(\"Skyblue\")\n",
    "\n",
    "alex = turtle.Turtle()\n",
    "alex.shape(\"turtle\")\n",
    "\n",
    "\n",
    "alex.up()        # when move to a next place with 2 increaments to the previous step, without drawing lines \n",
    "distance = 5\n",
    "for _ in range(30):\n",
    "    alex.stamp()        # whenvere move to a new place, stamp its footprint\n",
    "    alex.forward(distance)\n",
    "    alex.right(24)\n",
    "    print(distance)  # print out the value of distance at each loop\n",
    "    distance += 2\n",
    "    \n",
    "    \n",
    "wn.exitonclick()\n",
    "\n",
    "\n"
   ]
  },
  {
   "cell_type": "code",
   "execution_count": null,
   "metadata": {},
   "outputs": [],
   "source": []
  },
  {
   "cell_type": "markdown",
   "metadata": {},
   "source": [
    "## Module\n",
    "\n",
    "\n",
    "    - A module is a file containing Python definitions and statements intended for use in other Python programs. \n",
    "    \n",
    "    - Functions imported as part of a module live in their own namespace.\n",
    "    \n",
    "        - One example of a namespace is the set of street names within a single city. \n",
    "        "
   ]
  },
  {
   "cell_type": "markdown",
   "metadata": {},
   "source": [
    "### Importing modules\n",
    "\n",
    "    - an import statement causes all the code in another file to be executed\n",
    "    "
   ]
  },
  {
   "cell_type": "markdown",
   "metadata": {},
   "source": [
    "### The 'random' module \n",
    "(ref: https://docs.python.org/3.6/library/random.html?highlight=random%20module)\n",
    "\n",
    "    - want to use random numbers in programs,  a few typical uses:\n",
    "    \n",
    "        - computer needs to throw some dice, pick a number, or flip a coin\n",
    "        - to shuffle a deck of playing cards randomly\n",
    "        - to simulate possible rainfall when we make a computerized model for estimating the environmental impact of building a dam\n",
    "        - for encrypting your banking session on the Internet"
   ]
  },
  {
   "cell_type": "code",
   "execution_count": 6,
   "metadata": {},
   "outputs": [
    {
     "name": "stdout",
     "output_type": "stream",
     "text": [
      "0.5133327730038221\n",
      "5\n"
     ]
    }
   ],
   "source": [
    "import random as rd\n",
    "\n",
    "prob = rd.random() # Return the next random floating point number in the range [0.0, 1.0).\n",
    "print(prob)\n",
    "\n",
    "\n",
    "die_throw = rd.randrange(1, 7) # return a randomly selected integer from range(start, stop, step)\n",
    "print(die_throw)"
   ]
  },
  {
   "cell_type": "markdown",
   "metadata": {},
   "source": [
    "### Glorssary\n",
    "\n",
    "**deterministic**\n",
    " - A process that is predictable and repeatable\n",
    " \n",
    "**module**\n",
    " - A file containing Python definitions and statements intended for use in other Python programs.\n",
    " - The contents of a module is available to other program by using the import statement\n",
    " \n",
    "**namespace**\n",
    " - A naming system for making names unique. Within a namespace, no two names can be the same.\n",
    " \n",
    "**pseudo-random number**\n",
    " - A number that is generated algorithmatically\n",
    " \n",
    "**random number**\n",
    " - A number that is to exhibit the statistical randomness\n",
    " \n",
    "**random number generator**\n",
    " - A function that will provide you with random number usually between 0 and 1\n",
    " \n",
    "**standard library**\n",
    " - A collection of modules that are part of the  normal installation of Python.\n",
    " "
   ]
  },
  {
   "cell_type": "code",
   "execution_count": null,
   "metadata": {},
   "outputs": [],
   "source": []
  },
  {
   "cell_type": "code",
   "execution_count": null,
   "metadata": {},
   "outputs": [],
   "source": []
  },
  {
   "cell_type": "code",
   "execution_count": null,
   "metadata": {},
   "outputs": [],
   "source": []
  },
  {
   "cell_type": "code",
   "execution_count": null,
   "metadata": {},
   "outputs": [],
   "source": []
  }
 ],
 "metadata": {
  "kernelspec": {
   "display_name": "Python 3",
   "language": "python",
   "name": "python3"
  },
  "language_info": {
   "codemirror_mode": {
    "name": "ipython",
    "version": 3
   },
   "file_extension": ".py",
   "mimetype": "text/x-python",
   "name": "python",
   "nbconvert_exporter": "python",
   "pygments_lexer": "ipython3",
   "version": "3.7.3"
  }
 },
 "nbformat": 4,
 "nbformat_minor": 2
}
