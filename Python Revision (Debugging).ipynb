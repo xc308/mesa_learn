{
 "cells": [
  {
   "cell_type": "markdown",
   "metadata": {},
   "source": [
    "## Introduction to Debugging\n",
    "\n",
    "\n",
    "- what happens when errors occur as well as how to fix the errors that you will inevitably come across.\n",
    "\n",
    "- present some strategies to help you understand why the program you wrote does not behave as intended.\n",
    "\n",
    "\n",
    "\n",
    "### Learning Goals\n",
    "\n",
    "    - To understand good programming strategies to avoid errors\n",
    "    - To understand common kinds of exceptions and their likely causes\n",
    "\n",
    "\n",
    "\n",
    "### Objectives\n",
    "    \n",
    "    - Given a piece of code, find the Syntax errors based on error messages\n",
    "    - Given a piece of code find the (ValueError, TypeError, SyntaxError, ParseError, NameError)\n",
    "    "
   ]
  },
  {
   "cell_type": "markdown",
   "metadata": {},
   "source": [
    "## Debugging\n",
    "\n",
    "\n",
    "- Programming errors are called bugs and the process of tracking them down and correcting them is called debugging\n",
    "\n",
    "\n",
    "### How to avoid debugging\n",
    "\n",
    "- Testing:  \n",
    "    - it is important to test your code on a range of inputs\n",
    "    - it is especially important to test your code on boundary conditions.\n",
    "\n",
    "\n",
    "- Example: Ask the user for the time now (in hours 0 – 23), and ask for the number of hours to wait.Then output the time after waiting"
   ]
  },
  {
   "cell_type": "code",
   "execution_count": 1,
   "metadata": {},
   "outputs": [
    {
     "name": "stdout",
     "output_type": "stream",
     "text": [
      "Please enter the current time in hours:23\n",
      "Please enter the number of hours you want to wait: 2\n",
      "23\n",
      "2\n",
      "232\n"
     ]
    }
   ],
   "source": [
    "current_time = input(\"Please enter the current time in hours:\")\n",
    "wait_hr = input(\"Please enter the number of hours you want to wait: \")\n",
    "\n",
    "print(current_time)\n",
    "print(wait_hr)\n",
    "\n",
    "final_time = current_time + wait_hr\n",
    "print(final_time)"
   ]
  },
  {
   "cell_type": "markdown",
   "metadata": {},
   "source": [
    "- Error: Python do straight concatinating for strings when added together by +\n",
    "- Solve: input function return string, so convert string to integer"
   ]
  },
  {
   "cell_type": "code",
   "execution_count": 2,
   "metadata": {},
   "outputs": [
    {
     "name": "stdout",
     "output_type": "stream",
     "text": [
      "Please enter the current time in hours:23\n",
      "Please enter the number of hours you want to wait: 4\n",
      "27\n"
     ]
    }
   ],
   "source": [
    "current_time_str = input(\"Please enter the current time in hours:\")\n",
    "wait_hr_str = input(\"Please enter the number of hours you want to wait: \")\n",
    "\n",
    "\n",
    "current_time_int = int(current_time_str)\n",
    "wait_hr_int = int(wait_hr_str)\n",
    "\n",
    "final_time_int = current_time_int + wait_hr_int\n",
    "print(final_time_int)\n"
   ]
  },
  {
   "cell_type": "markdown",
   "metadata": {},
   "source": [
    "- Error: the output exceeds the boundary 0-23\n",
    "- Solve: to account for those numbers that are bigger than 23, use modulus %24, so if the final time = 24, output =0, final time = 25, the output = 1,..."
   ]
  },
  {
   "cell_type": "code",
   "execution_count": 4,
   "metadata": {},
   "outputs": [
    {
     "name": "stdout",
     "output_type": "stream",
     "text": [
      "Please enter the current time in hours:23\n",
      "Please enter the number of hours you want to wait: 4\n",
      "Time after waiting is : 3 o'clock\n"
     ]
    }
   ],
   "source": [
    "current_time_str = input(\"Please enter the current time in hours:\")\n",
    "wait_hr_str = input(\"Please enter the number of hours you want to wait: \")\n",
    "\n",
    "\n",
    "current_time_int = int(current_time_str)\n",
    "wait_hr_int = int(wait_hr_str)\n",
    "\n",
    "final_time_int = current_time_int + wait_hr_int\n",
    "\n",
    "final_output_int = final_time_int % 24\n",
    "\n",
    "print(\"Time after waiting is :\", final_output_int, \"o'clock\")\n"
   ]
  },
  {
   "cell_type": "code",
   "execution_count": null,
   "metadata": {},
   "outputs": [],
   "source": []
  },
  {
   "cell_type": "markdown",
   "metadata": {},
   "source": [
    "## Error types\n",
    "\n",
    "\n",
    "- Three kinds of errors can occur in a program: syntax errors, runtime errors, and semantic errors. \n",
    "\n",
    "\n",
    "### Syntax error\n",
    "    - syntax error: sturcture of a program and the rules of the structure\n",
    "    \n",
    "\n",
    "### Runtime error\n",
    "    - the error does not appear until you run the program\n",
    "    -  also called exceptions because they usually indicate that something exceptional (and bad) has happened.\n",
    "    - e.g. divide by 0 , because Python cannot reliably tell if you're trying to divid by 0 until you run the program, for instance you might be asking the user for a value and then dividing by that value—you cannot know what value the user will enter before you run the program).\n",
    "    \n",
    "    \n",
    "### Semantic error\n",
    "    - it will run successfully without any error message, but the program will not do the thing you are expecting\n",
    "    - the program you wrote is not the program you wanted to write\n",
    "    - the meaning of the program (the semantic) is wrong\n",
    "    - it requires you to work backward by looking at the program and trying to figure out what it's doing "
   ]
  },
  {
   "cell_type": "markdown",
   "metadata": {},
   "source": [
    "## Error message\n",
    "\n",
    "\n",
    "### NameError \n",
    "    - NameError: name 'wait_time_int' is not defined on line 5\n",
    "    - fix: Check the right hand side of assignment statements and your function calls\n",
    "    \n",
    "    \n",
    "### TypeError\n",
    "    - occurs when you try to combine two objects that are not compatitble, e.g. try to add integer and string\n",
    "  \n",
    "\n",
    "### ValueError\n",
    "    - occurs when you pass a parameter to a function and it is actually expecting a certain limitations on the values, and the value passed is not compatible. \n",
    "    - fix: keep track of the restrictions needed for your variables, and understand what your function is expecting, you can do this by commenting the variable type or naming the variable in a way that reminds you of their properties.\n",
    "    \n",
    "    "
   ]
  },
  {
   "cell_type": "code",
   "execution_count": null,
   "metadata": {},
   "outputs": [],
   "source": []
  },
  {
   "cell_type": "code",
   "execution_count": null,
   "metadata": {},
   "outputs": [],
   "source": []
  }
 ],
 "metadata": {
  "kernelspec": {
   "display_name": "Python 3",
   "language": "python",
   "name": "python3"
  },
  "language_info": {
   "codemirror_mode": {
    "name": "ipython",
    "version": 3
   },
   "file_extension": ".py",
   "mimetype": "text/x-python",
   "name": "python",
   "nbconvert_exporter": "python",
   "pygments_lexer": "ipython3",
   "version": "3.7.3"
  }
 },
 "nbformat": 4,
 "nbformat_minor": 2
}
