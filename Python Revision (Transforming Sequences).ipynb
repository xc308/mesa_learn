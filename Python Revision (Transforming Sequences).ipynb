{
 "cells": [
  {
   "cell_type": "markdown",
   "metadata": {},
   "source": [
    "##  Introduction: Transforming Sequences¶\n",
    "\n",
    "\n",
    "    - sequence we've used so far are static: \n",
    "        - a list of colors that doesn’t change \n",
    "        - the characters in a string that stays the same\n",
    "        \n",
    "        \n",
    "    - but in real world:\n",
    "        - A list of users for your social network may need to grow to accommodate new users (or shrink when users leave your service)\n",
    "        - The letters in a string may need to be modified to personalize a message (“Welcome to Wonderland, <your name>”), or to encode a secret message\n",
    "        \n",
    "        - more of the methods that can be used to transform lists and strings. \n",
    "        \n",
    "    - Generally, the two methods that can be used are changing the list object\n",
    "        - by mutating it\n",
    "        - by constructing a new string object using a copy-with-change operation.\n",
    "        \n",
    "        \n",
    "        \n",
    "## Learning Goals\n",
    "\n",
    "    - To understand the concepts of mutable and immutable data type\n",
    "    - To understand that methods on strings leave the origninal string alone but return a new string\n",
    "    - To understand that lists are mutable data types and that mutating methods on lists return None\n",
    "    \n",
    "    \n",
    "    \n",
    "## Objectives\n",
    "\n",
    "    - Demonstrate the correct use of:\n",
    "        - concatenate\n",
    "        - index operator\n",
    "        - substring (slice)\n",
    "        - search - contains in / not in and index\n",
    "        - find method\n",
    "        - append\n",
    "        - join\n",
    "        - split\n",
    "        - string format method"
   ]
  },
  {
   "cell_type": "code",
   "execution_count": null,
   "metadata": {},
   "outputs": [],
   "source": []
  },
  {
   "cell_type": "markdown",
   "metadata": {},
   "source": [
    "## Lists are mutable\n",
    "\n",
    "    - Unlike strings, lists are mutable.\n",
    "    \n",
    "    - means we can change an item in a list by accessing it directly as part of the assignment statement.\n",
    "    \n",
    "    - Using the indexing operator (square brackets) on the left side of an assignment, we can update one of the list items.\n",
    "    \n",
    "    - An assignment to an element of a list is called item assignment\n",
    "    \n",
    "    - Item assignment does not work for strings. Recall that strings are immutable.\n",
    "    \n",
    "    - By combining assignment with the slice operator we can update several elements at once."
   ]
  },
  {
   "cell_type": "code",
   "execution_count": null,
   "metadata": {},
   "outputs": [],
   "source": [
    "alist = ['a', 'b', 'c', 'd', 'e', 'f']\n",
    "alist[1:3] = ['x', 'y']\n",
    "print(alist)\n",
    "\n"
   ]
  },
  {
   "cell_type": "markdown",
   "metadata": {},
   "source": [
    "### can also remove elements from a list by assigning the empty list to them."
   ]
  },
  {
   "cell_type": "code",
   "execution_count": 1,
   "metadata": {},
   "outputs": [
    {
     "name": "stdout",
     "output_type": "stream",
     "text": [
      "['a', 'd', 'e', 'f']\n"
     ]
    }
   ],
   "source": [
    "alist = ['a', 'b', 'c', 'd', 'e', 'f']\n",
    "alist[1:3] = []\n",
    "print(alist)"
   ]
  },
  {
   "cell_type": "markdown",
   "metadata": {},
   "source": [
    "###  can even insert elements into a list by squeezing them into an empty slice at the desired location"
   ]
  },
  {
   "cell_type": "code",
   "execution_count": 4,
   "metadata": {},
   "outputs": [
    {
     "name": "stdout",
     "output_type": "stream",
     "text": [
      "['a', 'b', 'c', 'd', 'f']\n",
      "['a', 'b', 'c', 'd', 'e', 'f']\n"
     ]
    }
   ],
   "source": [
    "alist = ['a', 'd', 'f']\n",
    "alist[1:1] = ['b', 'c']  # empty slice at the desired location\n",
    "print(alist)\n",
    "\n",
    "alist[4:4] = [\"e\"]\n",
    "print(alist)"
   ]
  },
  {
   "cell_type": "markdown",
   "metadata": {},
   "source": [
    "* empty slice [1:1], [4:4]"
   ]
  },
  {
   "cell_type": "code",
   "execution_count": null,
   "metadata": {},
   "outputs": [],
   "source": []
  },
  {
   "cell_type": "markdown",
   "metadata": {},
   "source": [
    "## Strings are Immutable¶ (means you cannot change an existing string)\n",
    "\n",
    "\n",
    "    - you are not allowed to modify the individual characters in the collection\n",
    "        - error : 'str' object does not support item assignment\n",
    "        \n",
    "    - The best you can do is create a new string that is a variation on the original\n",
    "    \n",
    "    "
   ]
  },
  {
   "cell_type": "code",
   "execution_count": 5,
   "metadata": {},
   "outputs": [
    {
     "ename": "TypeError",
     "evalue": "'str' object does not support item assignment",
     "output_type": "error",
     "traceback": [
      "\u001b[0;31m---------------------------------------------------------------------------\u001b[0m",
      "\u001b[0;31mTypeError\u001b[0m                                 Traceback (most recent call last)",
      "\u001b[0;32m<ipython-input-5-aaf6d74b0f69>\u001b[0m in \u001b[0;36m<module>\u001b[0;34m\u001b[0m\n\u001b[1;32m      1\u001b[0m \u001b[0mgreeting\u001b[0m \u001b[0;34m=\u001b[0m \u001b[0;34m\"Hello, world!\"\u001b[0m\u001b[0;34m\u001b[0m\u001b[0;34m\u001b[0m\u001b[0m\n\u001b[0;32m----> 2\u001b[0;31m \u001b[0mgreeting\u001b[0m\u001b[0;34m[\u001b[0m\u001b[0;36m0\u001b[0m\u001b[0;34m]\u001b[0m \u001b[0;34m=\u001b[0m \u001b[0;34m'J'\u001b[0m            \u001b[0;31m# ERROR!\u001b[0m\u001b[0;34m\u001b[0m\u001b[0;34m\u001b[0m\u001b[0m\n\u001b[0m\u001b[1;32m      3\u001b[0m \u001b[0mprint\u001b[0m\u001b[0;34m(\u001b[0m\u001b[0mgreeting\u001b[0m\u001b[0;34m)\u001b[0m\u001b[0;34m\u001b[0m\u001b[0;34m\u001b[0m\u001b[0m\n\u001b[1;32m      4\u001b[0m \u001b[0;34m\u001b[0m\u001b[0m\n",
      "\u001b[0;31mTypeError\u001b[0m: 'str' object does not support item assignment"
     ]
    }
   ],
   "source": [
    "greeting = \"Hello, world!\"\n",
    "greeting[0] = 'J'            # ERROR!\n",
    "print(greeting)\n",
    "\n"
   ]
  },
  {
   "cell_type": "code",
   "execution_count": 6,
   "metadata": {},
   "outputs": [
    {
     "name": "stdout",
     "output_type": "stream",
     "text": [
      "Jello, world!\n"
     ]
    }
   ],
   "source": [
    "greeting = \"Hello, world!\"\n",
    "\n",
    "newgreeting = \"J\" + greeting[1:]\n",
    "\n",
    "print(newgreeting)"
   ]
  },
  {
   "cell_type": "markdown",
   "metadata": {},
   "source": [
    "#### solution is to concatenate a new first letter onto a slice of greeting\n",
    "This operation has no effect on the original string.\n",
    "\n",
    "#### However, the more that you change the string, the more difficult it is to come up with a new variable to use\n",
    "#### It’s perfectly acceptable to re-assign the value to the same variable name in this case."
   ]
  },
  {
   "cell_type": "code",
   "execution_count": null,
   "metadata": {},
   "outputs": [],
   "source": []
  },
  {
   "cell_type": "code",
   "execution_count": null,
   "metadata": {},
   "outputs": [],
   "source": []
  },
  {
   "cell_type": "markdown",
   "metadata": {},
   "source": [
    "## Tuples are Immutable¶\n",
    "\n",
    "\n",
    "    - the key difference between lists and tuples: tuples are like immutable lists\n",
    "    \n",
    "    - Once a tuple is created, it can’t be changed.\n",
    "    \n",
    "    - "
   ]
  },
  {
   "cell_type": "code",
   "execution_count": 8,
   "metadata": {},
   "outputs": [
    {
     "ename": "TypeError",
     "evalue": "'tuple' object does not support item assignment",
     "output_type": "error",
     "traceback": [
      "\u001b[0;31m---------------------------------------------------------------------------\u001b[0m",
      "\u001b[0;31mTypeError\u001b[0m                                 Traceback (most recent call last)",
      "\u001b[0;32m<ipython-input-8-c20ee634bc2d>\u001b[0m in \u001b[0;36m<module>\u001b[0;34m\u001b[0m\n\u001b[1;32m      1\u001b[0m \u001b[0mjulia\u001b[0m \u001b[0;34m=\u001b[0m \u001b[0;34m(\u001b[0m\u001b[0;34m\"a\"\u001b[0m\u001b[0;34m,\u001b[0m \u001b[0;34m\"B\"\u001b[0m\u001b[0;34m,\u001b[0m \u001b[0;34m\"C\"\u001b[0m\u001b[0;34m)\u001b[0m\u001b[0;34m\u001b[0m\u001b[0;34m\u001b[0m\u001b[0m\n\u001b[0;32m----> 2\u001b[0;31m \u001b[0mjulia\u001b[0m\u001b[0;34m[\u001b[0m\u001b[0;36m0\u001b[0m\u001b[0;34m]\u001b[0m \u001b[0;34m=\u001b[0m \u001b[0;34m'X'\u001b[0m\u001b[0;34m\u001b[0m\u001b[0;34m\u001b[0m\u001b[0m\n\u001b[0m",
      "\u001b[0;31mTypeError\u001b[0m: 'tuple' object does not support item assignment"
     ]
    }
   ],
   "source": [
    "julia = (\"a\", \"B\", \"C\")\n",
    "julia[0] = 'X'         #'tuple' object does not support item assignment"
   ]
  },
  {
   "cell_type": "code",
   "execution_count": null,
   "metadata": {},
   "outputs": [],
   "source": []
  },
  {
   "cell_type": "markdown",
   "metadata": {},
   "source": [
    "## List Element Deletion\n",
    "\n",
    "\n",
    "    - Using slices (assign an empty list to a cetain element) to delete list elements can be awkward and therefore error-prone\n",
    "    \n",
    "    - the del statement removes an element from a list by using its position\n",
    "    \n",
    "    - "
   ]
  },
  {
   "cell_type": "code",
   "execution_count": 11,
   "metadata": {},
   "outputs": [
    {
     "name": "stdout",
     "output_type": "stream",
     "text": [
      "['one', 'two']\n",
      "['a', 'f']\n"
     ]
    }
   ],
   "source": [
    "a = ['one', 'two', 'three']\n",
    "del a[2]\n",
    "print(a)\n",
    "\n",
    "\n",
    "b = ['a', 'b', 'c', 'd', 'e', 'f']\n",
    "del b[1:5]\n",
    "print(b)\n",
    "\n"
   ]
  },
  {
   "cell_type": "code",
   "execution_count": null,
   "metadata": {},
   "outputs": [],
   "source": []
  },
  {
   "cell_type": "markdown",
   "metadata": {},
   "source": [
    "\n",
    "## Objects and References\n"
   ]
  },
  {
   "cell_type": "code",
   "execution_count": 13,
   "metadata": {},
   "outputs": [
    {
     "data": {
      "text/plain": [
       "True"
      ]
     },
     "execution_count": 13,
     "metadata": {},
     "output_type": "execute_result"
    }
   ],
   "source": [
    "a = \"banana\"\n",
    "b = \"banana\"\n",
    "\n",
    "a is b   #  True, tells us that both a and b refer to the same object\n"
   ]
  },
  {
   "cell_type": "markdown",
   "metadata": {},
   "source": [
    "* In one case, a and b refer to two different string objects that have the same value\n",
    "\n",
    "* In the second case, they refer to the same object.\n",
    "\n",
    "*  an object is something a variable can refer to\n",
    "\n",
    "-  To test whether two names refer to the same object, using the is operator.\n",
    "\n",
    "    - The is operator will return true if the two references are to the same object. \n",
    "\n",
    "\n",
    "#### Python assigns every object a unique id and when we ask a is b what python is really doing is checking to see if id(a) == id(b)."
   ]
  },
  {
   "cell_type": "code",
   "execution_count": 17,
   "metadata": {},
   "outputs": [
    {
     "name": "stdout",
     "output_type": "stream",
     "text": [
      "True\n",
      "4436518256\n",
      "4436518256\n"
     ]
    }
   ],
   "source": [
    "print(id(a) == id(b))\n",
    "\n",
    "print(id(a))\n",
    "print(id(b))"
   ]
  },
  {
   "cell_type": "code",
   "execution_count": null,
   "metadata": {},
   "outputs": [],
   "source": []
  },
  {
   "cell_type": "markdown",
   "metadata": {},
   "source": [
    "##  Aliasing¶\n",
    "\n",
    "    - Since variables refer to objects, if we assign one variable to another (b = a), both variables refer to the same object\n",
    "    \n",
    "    - the same list has two different names, a and b, we say that it is aliased.\n",
    "    \n",
    "    - Changes made with one alias affect the other."
   ]
  },
  {
   "cell_type": "code",
   "execution_count": 18,
   "metadata": {},
   "outputs": [
    {
     "name": "stdout",
     "output_type": "stream",
     "text": [
      "True\n"
     ]
    }
   ],
   "source": [
    "a = [81, 82, 83]\n",
    "b = a\n",
    "\n",
    "print(a is b)"
   ]
  },
  {
   "cell_type": "code",
   "execution_count": 19,
   "metadata": {},
   "outputs": [
    {
     "name": "stdout",
     "output_type": "stream",
     "text": [
      "False\n"
     ]
    }
   ],
   "source": [
    "a = [81,82,83]\n",
    "b = [81,82,83]\n",
    "print(a is b)  "
   ]
  },
  {
   "cell_type": "markdown",
   "metadata": {},
   "source": [
    "* because one variable refer to one object\n"
   ]
  },
  {
   "cell_type": "code",
   "execution_count": 20,
   "metadata": {},
   "outputs": [
    {
     "name": "stdout",
     "output_type": "stream",
     "text": [
      "True\n",
      "True\n"
     ]
    }
   ],
   "source": [
    "b = a\n",
    "print(a == b)\n",
    "print(a is b)"
   ]
  },
  {
   "cell_type": "markdown",
   "metadata": {},
   "source": [
    "* because after the assignment, both variables refter to the same object"
   ]
  },
  {
   "cell_type": "code",
   "execution_count": 21,
   "metadata": {},
   "outputs": [
    {
     "name": "stdout",
     "output_type": "stream",
     "text": [
      "[5, 82, 83]\n"
     ]
    }
   ],
   "source": [
    "b[0] = 5\n",
    "print(a)"
   ]
  },
  {
   "cell_type": "markdown",
   "metadata": {},
   "source": [
    "* so now if one element of b changed, the element in the same postion of a will also change"
   ]
  },
  {
   "cell_type": "markdown",
   "metadata": {},
   "source": [
    "####  In general, it is safer to avoid aliasing when you are working with mutable objects.\n",
    "\n",
    " - for immutable objects, there’s no problem. "
   ]
  },
  {
   "cell_type": "code",
   "execution_count": null,
   "metadata": {},
   "outputs": [],
   "source": []
  },
  {
   "cell_type": "markdown",
   "metadata": {},
   "source": [
    "## Cloning Lists¶\n",
    "\n",
    "\n",
    "    - If we want to modify a list and also keep a copy of the original, need to be able to make a copy of the list itself, not just the reference\n",
    "    \n",
    "    - This process is sometimes called cloning\n",
    "    \n",
    "    - The easiest way to clone a list is to use the slice operator\n",
    "    \n",
    "    - Taking any slice of a creates a new list. In this case the slice happens to consist of the whole list."
   ]
  },
  {
   "cell_type": "code",
   "execution_count": 25,
   "metadata": {},
   "outputs": [
    {
     "name": "stdout",
     "output_type": "stream",
     "text": [
      "True\n",
      "False\n",
      "[5, 82, 83]\n",
      "[81, 82, 83]\n"
     ]
    }
   ],
   "source": [
    "a = [81,82,83]\n",
    "\n",
    "b = a[:]  # colon a and then assign to variable b; the slice happens to consist of the whole list\n",
    "\n",
    "print(a == b)\n",
    "print(a is b) # do they have the same index?\n",
    "\n",
    "\n",
    "a[0] = 5\n",
    "print(a)\n",
    "print(b)"
   ]
  },
  {
   "cell_type": "markdown",
   "metadata": {},
   "source": [
    "####  we are free to make changes to b without worrying about a.\n",
    "\n",
    "-  a and b are entirely different list objects."
   ]
  },
  {
   "cell_type": "code",
   "execution_count": 26,
   "metadata": {},
   "outputs": [
    {
     "name": "stdout",
     "output_type": "stream",
     "text": [
      "[4, 2, 8, 6, 5]\n"
     ]
    }
   ],
   "source": [
    "alist = [4,2,8,6,5]\n",
    "blist = alist * 2    # blist is a copy of the references in alist, but refers to another object [4286542865]\n",
    "blist[3] = 999\n",
    "print(alist)  # although blist changed, but alist did not."
   ]
  },
  {
   "cell_type": "code",
   "execution_count": null,
   "metadata": {},
   "outputs": [],
   "source": []
  },
  {
   "cell_type": "markdown",
   "metadata": {},
   "source": [
    "## Mutating Methods (a.i.s.rvs.rmv.)\n",
    "\n",
    "     - like the count and index methods.\n",
    "     \n",
    "     - Methods are either mutating or non-mutating\n",
    "     \n",
    "     - Mutating methods are ones that change the object after the method has been used.\n",
    "     \n",
    "     - Non-mutating methods do not change the object after the method has been used.\n",
    "     \n",
    "     - The count and index methods are both non-mutating.\n",
    "     \n",
    "         - Count returns the number of occurances of the argument given but does not change the original string or list.\n",
    "         - index returns the leftmost occurance of the argument but does not change the original string or list.\n",
    "         \n",
    "         \n",
    "## List Methods¶\n",
    "\n",
    "     - The dot operator can also be used to access built-in methods of list objects\n",
    "     \n",
    "     -  append is a list method which adds the argument passed to it to the end of the list.\n",
    "     \n",
    "     - "
   ]
  },
  {
   "cell_type": "code",
   "execution_count": 33,
   "metadata": {},
   "outputs": [
    {
     "name": "stdout",
     "output_type": "stream",
     "text": [
      "[5, 8, 9]\n"
     ]
    }
   ],
   "source": [
    "mylist = []\n",
    "mylist.append(5)\n",
    "mylist.append(8)\n",
    "mylist.append(9)\n",
    "\n",
    "print(mylist)"
   ]
  },
  {
   "cell_type": "code",
   "execution_count": 34,
   "metadata": {},
   "outputs": [
    {
     "name": "stdout",
     "output_type": "stream",
     "text": [
      "[5, 12, 8, 9]\n",
      "1\n"
     ]
    }
   ],
   "source": [
    "mylist.insert(1, 12)  # insert 12 at the position 1\n",
    "print(mylist)\n",
    "\n",
    "\n",
    "\n",
    "print(mylist.count(12))"
   ]
  },
  {
   "cell_type": "code",
   "execution_count": 38,
   "metadata": {},
   "outputs": [
    {
     "name": "stdout",
     "output_type": "stream",
     "text": [
      "[5, 12, 3, 8, 9, 3]\n"
     ]
    },
    {
     "data": {
      "text/plain": [
       "2"
      ]
     },
     "execution_count": 38,
     "metadata": {},
     "output_type": "execute_result"
    }
   ],
   "source": [
    "mylist.append(3)\n",
    "mylist.insert(2, 3)\n",
    "print(mylist)\n",
    "\n",
    "\n",
    "mylist.index(3)  # return the index of the leftmost 3\n",
    "\n"
   ]
  },
  {
   "cell_type": "code",
   "execution_count": 42,
   "metadata": {},
   "outputs": [
    {
     "name": "stdout",
     "output_type": "stream",
     "text": [
      "[3, 9, 8, 3, 12, 5]\n"
     ]
    }
   ],
   "source": [
    "mylist.reverse()\n",
    "print(mylist)"
   ]
  },
  {
   "cell_type": "code",
   "execution_count": 47,
   "metadata": {},
   "outputs": [
    {
     "name": "stdout",
     "output_type": "stream",
     "text": [
      "[3, 3, 8]\n"
     ]
    }
   ],
   "source": [
    "mylist.sort()\n",
    "print(mylist)"
   ]
  },
  {
   "cell_type": "code",
   "execution_count": 44,
   "metadata": {},
   "outputs": [
    {
     "name": "stdout",
     "output_type": "stream",
     "text": [
      "[3, 3, 8, 9, 12]\n"
     ]
    }
   ],
   "source": [
    "mylist.remove(5)\n",
    "print(mylist)"
   ]
  },
  {
   "cell_type": "code",
   "execution_count": 46,
   "metadata": {},
   "outputs": [
    {
     "name": "stdout",
     "output_type": "stream",
     "text": [
      "9\n",
      "[3, 3, 8]\n"
     ]
    }
   ],
   "source": [
    "last_iterm = mylist.pop()  # pop out the last turn then remove it\n",
    "print(last_iterm) \n",
    "print(mylist)"
   ]
  },
  {
   "cell_type": "markdown",
   "metadata": {},
   "source": [
    "* .pop() has two usages:\n",
    "    - without parameter, return and then remove the last term\n",
    "    - with parameter, return and then remove the item at that position\n",
    "    \n",
    "* either way the list will change"
   ]
  },
  {
   "cell_type": "markdown",
   "metadata": {},
   "source": [
    "#### Method                           Parameters                          Result                                          Description\n",
    "\n",
    "    append               item               mutator (no return)       adds a new item to the end of the list\n",
    "    insert               postition, item    mutator                   insert a new position at the given position\n",
    "    pop                  -                  hybrid                    return and remove the last item\n",
    "    pop                  position           hybrid                    return and rmv the item at the given positn\n",
    "    sort                 -                  mutator                   sort the list\n",
    "    reverse              -                  mutator                   modify a list in reverse order\n",
    "    index                item               rtn indx                  rtn the positn of the 1st occurence of item\n",
    "    count                item               rtn the ct                rtn the number of occurence of item\n",
    "    remove               item               mutator                   remove the first occurence of the item\n",
    "    \n",
    "    \n",
    "    \n",
    "## Note: append, insert, sort, and reverse, remove all return None. They don't produce a new list, but change the original list  (aisrr)"
   ]
  },
  {
   "cell_type": "code",
   "execution_count": null,
   "metadata": {},
   "outputs": [],
   "source": []
  },
  {
   "cell_type": "code",
   "execution_count": 48,
   "metadata": {},
   "outputs": [
    {
     "name": "stdout",
     "output_type": "stream",
     "text": [
      "[5, 27, 3, 12]\n"
     ]
    }
   ],
   "source": [
    "mylist = []\n",
    "mylist.append(5)\n",
    "mylist.append(27)\n",
    "mylist.append(3)\n",
    "mylist.append(12)\n",
    "print(mylist)"
   ]
  },
  {
   "cell_type": "code",
   "execution_count": 52,
   "metadata": {},
   "outputs": [
    {
     "name": "stdout",
     "output_type": "stream",
     "text": [
      "None\n",
      "[3, 5, 12, 27]\n"
     ]
    }
   ],
   "source": [
    "print(mylist.sort()) # return none, because .sort( ) changes the original list\n",
    "\n",
    "print(mylist)"
   ]
  },
  {
   "cell_type": "code",
   "execution_count": null,
   "metadata": {},
   "outputs": [],
   "source": []
  },
  {
   "cell_type": "markdown",
   "metadata": {},
   "source": [
    "## Append versus Concatenate\n",
    "\n",
    "    - Append adds a new item to the end of the list\n",
    "    - It's also possible to use concatenate to do the same, but need an accumulator pattern"
   ]
  },
  {
   "cell_type": "code",
   "execution_count": 53,
   "metadata": {},
   "outputs": [
    {
     "name": "stdout",
     "output_type": "stream",
     "text": [
      "[45, 32, 88, 'cat']\n"
     ]
    }
   ],
   "source": [
    "origlist = [45,32,88]\n",
    "\n",
    "origlist.append(\"cat\")\n",
    "\n",
    "print(origlist)"
   ]
  },
  {
   "cell_type": "code",
   "execution_count": 54,
   "metadata": {},
   "outputs": [
    {
     "name": "stdout",
     "output_type": "stream",
     "text": [
      "[45, 32, 88, 'cat']\n"
     ]
    }
   ],
   "source": [
    "origlist = [45,32,88]\n",
    "\n",
    "origlist = origlist + [\"cat\"]\n",
    "\n",
    "print(origlist)"
   ]
  },
  {
   "cell_type": "code",
   "execution_count": 55,
   "metadata": {
    "scrolled": true
   },
   "outputs": [
    {
     "ename": "TypeError",
     "evalue": "can only concatenate list (not \"str\") to list",
     "output_type": "error",
     "traceback": [
      "\u001b[0;31m---------------------------------------------------------------------------\u001b[0m",
      "\u001b[0;31mTypeError\u001b[0m                                 Traceback (most recent call last)",
      "\u001b[0;32m<ipython-input-55-113b75016fe5>\u001b[0m in \u001b[0;36m<module>\u001b[0;34m\u001b[0m\n\u001b[1;32m      1\u001b[0m \u001b[0moriglist\u001b[0m \u001b[0;34m=\u001b[0m \u001b[0;34m[\u001b[0m\u001b[0;36m45\u001b[0m\u001b[0;34m,\u001b[0m\u001b[0;36m32\u001b[0m\u001b[0;34m,\u001b[0m\u001b[0;36m88\u001b[0m\u001b[0;34m]\u001b[0m\u001b[0;34m\u001b[0m\u001b[0;34m\u001b[0m\u001b[0m\n\u001b[1;32m      2\u001b[0m \u001b[0;34m\u001b[0m\u001b[0m\n\u001b[0;32m----> 3\u001b[0;31m \u001b[0moriglist\u001b[0m \u001b[0;34m=\u001b[0m \u001b[0moriglist\u001b[0m \u001b[0;34m+\u001b[0m \u001b[0;34m\"cat\"\u001b[0m\u001b[0;34m\u001b[0m\u001b[0;34m\u001b[0m\u001b[0m\n\u001b[0m\u001b[1;32m      4\u001b[0m \u001b[0;34m\u001b[0m\u001b[0m\n",
      "\u001b[0;31mTypeError\u001b[0m: can only concatenate list (not \"str\") to list"
     ]
    }
   ],
   "source": [
    "origlist = [45,32,88]\n",
    "\n",
    "origlist = origlist + \"cat\"    # can only concatenate list (not \"str\") to list\n",
    "\n"
   ]
  },
  {
   "cell_type": "code",
   "execution_count": null,
   "metadata": {},
   "outputs": [],
   "source": []
  },
  {
   "cell_type": "code",
   "execution_count": 57,
   "metadata": {},
   "outputs": [
    {
     "name": "stdout",
     "output_type": "stream",
     "text": [
      "Original list: [45, 32, 88]\n",
      "Original id: 4437697160\n",
      "newlist: [45, 32, 88, 'cat']\n",
      "newlist id: 4437697096\n",
      "original list after append: [45, 32, 88, 'cat']\n",
      "the id of original list after append: 4437697160\n"
     ]
    }
   ],
   "source": [
    "origlist = [45,32,88]\n",
    "\n",
    "print(\"Original list:\", origlist)\n",
    "print(\"Original id:\", id(origlist ))\n",
    "\n",
    "\n",
    "newlist = origlist + [\"cat\"]\n",
    "print(\"newlist:\", newlist)\n",
    "print(\"newlist id:\", id(newlist))\n",
    "\n",
    "\n",
    "origlist.append(\"cat\")\n",
    "print(\"original list after append:\" , origlist)\n",
    "print(\"the id of original list after append:\", id(origlist))"
   ]
  },
  {
   "cell_type": "code",
   "execution_count": null,
   "metadata": {},
   "outputs": [],
   "source": []
  },
  {
   "cell_type": "markdown",
   "metadata": {},
   "source": [
    "##  x += 1 v.s  x = x + 1\n",
    "\n",
    "## With lists, += is actually a little different"
   ]
  },
  {
   "cell_type": "code",
   "execution_count": 61,
   "metadata": {},
   "outputs": [
    {
     "name": "stdout",
     "output_type": "stream",
     "text": [
      "id of origilist 4437449288\n",
      "[45, 32, 88, 'cat']\n",
      "id of origlist += cat 4437449288\n",
      "[45, 32, 88, 'cat', 'dog']\n",
      "id of + dog 4437447048\n"
     ]
    }
   ],
   "source": [
    "origlist = [45,32,88]\n",
    "\n",
    "print(\"id of origilist\", id(origlist))\n",
    "\n",
    "\n",
    "origlist += [\"cat\"]\n",
    "print(origlist)\n",
    "print(\"id of origlist += cat\", id(origlist))  # similar to append, use the same id, just add one more term at the end\n",
    "\n",
    "\n",
    "origlist = origlist + [\"dog\"]      # create a new object with the name origlist, so a different id\n",
    "print(origlist)\n",
    "print(\"id of + dog\", id(origlist))"
   ]
  },
  {
   "cell_type": "code",
   "execution_count": null,
   "metadata": {},
   "outputs": [],
   "source": []
  },
  {
   "cell_type": "code",
   "execution_count": null,
   "metadata": {},
   "outputs": [],
   "source": []
  },
  {
   "cell_type": "markdown",
   "metadata": {},
   "source": [
    "### Exercises1:\n",
    "We can use append or concatenate repeatedly to create new objects. If we had a string and wanted to make a new list, where each element in the list is a character in the string, where do you think you should start?"
   ]
  },
  {
   "cell_type": "code",
   "execution_count": 62,
   "metadata": {},
   "outputs": [
    {
     "name": "stdout",
     "output_type": "stream",
     "text": [
      "['W', 'a', 'r', 'm', 't', 'h']\n"
     ]
    }
   ],
   "source": [
    "st = \"Warmth\"\n",
    "a = []\n",
    "\n",
    "\n",
    "for a_char in st:\n",
    "    a.append(a_char)\n",
    "    \n",
    "print(a)"
   ]
  },
  {
   "cell_type": "code",
   "execution_count": 64,
   "metadata": {},
   "outputs": [
    {
     "name": "stdout",
     "output_type": "stream",
     "text": [
      "['W', 'a', 'r', 'm', 't', 'h']\n"
     ]
    }
   ],
   "source": [
    "st = \"Warmth\"\n",
    "a = []\n",
    "\n",
    "\n",
    "for a_char in st:\n",
    "    a = a + [a_char]   # every iteration create a new object, quite waste memory\n",
    "    \n",
    "print(a)\n"
   ]
  },
  {
   "cell_type": "code",
   "execution_count": 65,
   "metadata": {},
   "outputs": [
    {
     "name": "stdout",
     "output_type": "stream",
     "text": [
      "['W', 'a', 'r', 'm', 't', 'h']\n"
     ]
    }
   ],
   "source": [
    "st = \"Warmth\"\n",
    "a = []\n",
    "\n",
    "for a_char in st:\n",
    "    a += [a_char]    # use the same id every update iteration\n",
    "    \n",
    "print(a)"
   ]
  },
  {
   "cell_type": "code",
   "execution_count": null,
   "metadata": {},
   "outputs": [],
   "source": []
  },
  {
   "cell_type": "markdown",
   "metadata": {},
   "source": [
    "## Non-mutating Methods on Strings\n",
    "\n",
    "    - There are a wide variety of methods for string objects\n",
    "    \n",
    "    - upper method creates a new string in which all the characters are in uppercase\n",
    "    \n",
    "    - lower method creates a new string in which all the characters are in lowercase\n",
    "    \n",
    "    - count(item) : retun the number of occurance of given item\n",
    "    \n",
    "    - index(item): return the index of the leftmost item\n",
    "    \n",
    "    - strip() : return the string with both the leading and trailing whitespace removed\n",
    "    \n",
    "    - replace(old, new): replace all occurance of old string with new ones\n",
    "    \n",
    "    - format: substitution"
   ]
  },
  {
   "cell_type": "code",
   "execution_count": 72,
   "metadata": {},
   "outputs": [
    {
     "name": "stdout",
     "output_type": "stream",
     "text": [
      "4436408816\n",
      "HELLO WORLD\n",
      "4437151472\n"
     ]
    }
   ],
   "source": [
    "ss = \"Hello world\"\n",
    "print(id(ss))\n",
    "\n",
    "tt = ss.upper()\n",
    "print(tt)\n",
    "print(id(tt))"
   ]
  },
  {
   "cell_type": "code",
   "execution_count": 73,
   "metadata": {},
   "outputs": [
    {
     "name": "stdout",
     "output_type": "stream",
     "text": [
      "hello world\n",
      "4437190768\n"
     ]
    }
   ],
   "source": [
    "pp = ss.lower()\n",
    "print(pp)\n",
    "print(id(pp))"
   ]
  },
  {
   "cell_type": "code",
   "execution_count": null,
   "metadata": {},
   "outputs": [],
   "source": []
  },
  {
   "cell_type": "code",
   "execution_count": 77,
   "metadata": {},
   "outputs": [
    {
     "name": "stdout",
     "output_type": "stream",
     "text": [
      "3\n"
     ]
    }
   ],
   "source": [
    "ss = \"    Hello, World    \"\n",
    "\n",
    "els = ss.count(\"l\")\n",
    "print(els)"
   ]
  },
  {
   "cell_type": "code",
   "execution_count": 78,
   "metadata": {},
   "outputs": [
    {
     "name": "stdout",
     "output_type": "stream",
     "text": [
      "***Hello, World***\n"
     ]
    }
   ],
   "source": [
    "print(\"***\"+ss.strip()+\"***\")   # Returns a string with the leading and trailing whitespace removed"
   ]
  },
  {
   "cell_type": "markdown",
   "metadata": {},
   "source": [
    "#### .strip( )    Returns a string with the leading and trailing whitespace removed"
   ]
  },
  {
   "cell_type": "code",
   "execution_count": 79,
   "metadata": {},
   "outputs": [
    {
     "name": "stdout",
     "output_type": "stream",
     "text": [
      "    Hell***, W***rld    \n"
     ]
    }
   ],
   "source": [
    "print(ss.replace(\"o\", \"***\"))"
   ]
  },
  {
   "cell_type": "markdown",
   "metadata": {},
   "source": [
    "#### .replace( old, new )  , replace all occurence of old string with new"
   ]
  },
  {
   "cell_type": "code",
   "execution_count": null,
   "metadata": {},
   "outputs": [],
   "source": []
  },
  {
   "cell_type": "markdown",
   "metadata": {},
   "source": [
    "## String Format Method\n",
    "\n",
    "    - substitutions\n"
   ]
  },
  {
   "cell_type": "code",
   "execution_count": 82,
   "metadata": {},
   "outputs": [
    {
     "name": "stdout",
     "output_type": "stream",
     "text": [
      "Hello Rodney Dangerfield, your score is -1\n",
      "Hello Marlon Brando, your score is 1\n",
      "Hello You, your score is 100\n"
     ]
    }
   ],
   "source": [
    "scores = [(\"Rodney Dangerfield\", -1), (\"Marlon Brando\", 1), (\"You\", 100)]\n",
    "\n",
    "for person in scores:\n",
    "    name = person[0]\n",
    "    score = person[1]\n",
    "    \n",
    "    print(\"Hello \" + name + \", your score is \"+ str(score))\n",
    "    "
   ]
  },
  {
   "cell_type": "code",
   "execution_count": null,
   "metadata": {},
   "outputs": [],
   "source": []
  },
  {
   "cell_type": "code",
   "execution_count": 84,
   "metadata": {},
   "outputs": [
    {
     "name": "stdout",
     "output_type": "stream",
     "text": [
      "Hello Rodney Dangerfield, your score is -1\n",
      "Hello Marlon Brando, your score is 1\n",
      "Hello You, your score is 100\n"
     ]
    }
   ],
   "source": [
    "scores = [(\"Rodney Dangerfield\", -1), (\"Marlon Brando\", 1), (\"You\", 100)]\n",
    "\n",
    "for person in scores:\n",
    "    name = person[0]\n",
    "    score = person[1]\n",
    "    \n",
    "    print(\"Hello {}, your score is {}\".format(name, score))   # format: substitution\n",
    "    \n",
    "   "
   ]
  },
  {
   "cell_type": "markdown",
   "metadata": {},
   "source": [
    "### format, makes substitutions into places in a string enclosed in braces\n",
    "\n",
    "    - string with braces embeded, is called format string\n",
    "    - placed where braces embeded are replaced by the value of expression taken from parameter list\n",
    "    - the 1st place of substitution is replaced by the 1st value of the parameter list"
   ]
  },
  {
   "cell_type": "code",
   "execution_count": 90,
   "metadata": {},
   "outputs": [
    {
     "name": "stdout",
     "output_type": "stream",
     "text": [
      "You name, please:skylar\n",
      "Hello, skylar!\n",
      "Guess who I am...:Jacky\n",
      "eroh, I'm not Jacky\n",
      "Guess who I am...:Mary\n",
      "eroh, I'm not Mary\n",
      "Guess who I am...:Justin\n",
      "eroh, I'm not Justin\n",
      "Guess who I am...:Gavin\n",
      "Bingo! I am Gavin\n"
     ]
    }
   ],
   "source": [
    "person = input(\"You name, please:\")\n",
    "\n",
    "greet = \"Hello, {}!\".format(person)\n",
    "\n",
    "print(greet)\n",
    "\n",
    "\n",
    "guess = input(\"Guess who I am...:\")\n",
    "\n",
    "while guess != \"Gavin\":\n",
    "    print(\"eroh, I'm not {}\".format(guess))\n",
    "    guess = input(\"Guess who I am...:\")\n",
    "    \n",
    "print(\"Bingo! I am Gavin\" )"
   ]
  },
  {
   "cell_type": "code",
   "execution_count": null,
   "metadata": {},
   "outputs": [],
   "source": []
  },
  {
   "cell_type": "code",
   "execution_count": 91,
   "metadata": {},
   "outputs": [
    {
     "name": "stdout",
     "output_type": "stream",
     "text": [
      "please input the original price: £900\n",
      "please enter the discount you want to offer (perct): 20\n",
      "£900.0 discounted by 20.0 is 720.0\n"
     ]
    }
   ],
   "source": [
    "orig_price = float(input(\"please input the original price: £\"))\n",
    "discount = float(input(\"please enter the discount you want to offer (perct): \"))\n",
    "\n",
    "new_price = orig_price - orig_price * discount/100\n",
    "\n",
    "calculation = \"£{} discounted by {} is {}\".format(orig_price, discount, new_price)\n",
    "print(calculation)"
   ]
  },
  {
   "cell_type": "markdown",
   "metadata": {},
   "source": [
    "#### To define the decimal places of the prices, put :.2f inside the braces"
   ]
  },
  {
   "cell_type": "code",
   "execution_count": 95,
   "metadata": {},
   "outputs": [
    {
     "name": "stdout",
     "output_type": "stream",
     "text": [
      "Enter price: £3.9\n",
      "Discount(%):4\n",
      "£3.90 discounted by 4.0 % is £3.74\n"
     ]
    }
   ],
   "source": [
    "orig_price = float(input(\"Enter price: £\"))\n",
    "distct = float(input(\"Discount(%):\" ))\n",
    "\n",
    "new_price = (1 - distct/100) * orig_price\n",
    "\n",
    "print(\"£{:.2f} discounted by {}% is £{:.2f}\".format(orig_price, distct, new_price))"
   ]
  },
  {
   "cell_type": "code",
   "execution_count": null,
   "metadata": {},
   "outputs": [],
   "source": []
  },
  {
   "cell_type": "markdown",
   "metadata": {},
   "source": [
    "#### One tech point: want the braces to be involved in, use double braces, \n",
    "\n",
    "\\{\\{  {substituion}     \\}\\}"
   ]
  },
  {
   "cell_type": "code",
   "execution_count": 97,
   "metadata": {},
   "outputs": [
    {
     "name": "stdout",
     "output_type": "stream",
     "text": [
      "This set is { 3, 9 }\n"
     ]
    }
   ],
   "source": [
    "a = 3\n",
    "b = 9\n",
    "\n",
    "setstring = \"This set is {{ {}, {} }}\".format(a, b)\n",
    "print(setstring)"
   ]
  },
  {
   "cell_type": "code",
   "execution_count": null,
   "metadata": {},
   "outputs": [],
   "source": []
  },
  {
   "cell_type": "code",
   "execution_count": null,
   "metadata": {},
   "outputs": [],
   "source": []
  },
  {
   "cell_type": "markdown",
   "metadata": {},
   "source": [
    "## The Accumulator Pattern with Lists¶\n",
    "\n",
    "    - initialize the accumulator variable to be an empty list\n",
    "    - iterate through the sequence, on each iteration, transform sth\n",
    "    - update the target accumulator with iteration or it's transformation\n",
    "    \n"
   ]
  },
  {
   "cell_type": "code",
   "execution_count": 98,
   "metadata": {},
   "outputs": [
    {
     "name": "stdout",
     "output_type": "stream",
     "text": [
      "[6, 10, 16]\n"
     ]
    }
   ],
   "source": [
    "## method 1\n",
    "nums = [3, 5, 8]\n",
    "\n",
    "accu = []\n",
    "\n",
    "for num in nums:\n",
    "    w = num * 2\n",
    "    accu.append(w) \n",
    "    \n",
    "print(accu)\n",
    "\n",
    "\n",
    "\n",
    "## method 2\n",
    "nums = [3, 5, 8]\n",
    "\n",
    "accu = []\n",
    "\n",
    "for num in nums:\n",
    "    w = num * 2\n",
    "    accu.append(w) \n",
    "    \n",
    "print(accu)nums = [3, 5, 8]\n",
    "\n",
    "\n",
    "\n",
    "## method 3\n",
    "accu = []\n",
    "\n",
    "for num in nums:\n",
    "    w = num * 2\n",
    "    accu += [w] \n",
    "    \n",
    "print(accu)\n",
    "\n"
   ]
  },
  {
   "cell_type": "code",
   "execution_count": null,
   "metadata": {},
   "outputs": [],
   "source": []
  },
  {
   "cell_type": "markdown",
   "metadata": {},
   "source": [
    "## The Accumulator Pattern with Strings\n",
    "\n",
    "    \n",
    "    -  start with an empty string \n",
    "    \n",
    "    - building the result string character by character.\n",
    "    "
   ]
  },
  {
   "cell_type": "code",
   "execution_count": null,
   "metadata": {},
   "outputs": [],
   "source": [
    "s = input(\"Enter some text\")\n",
    "ac = \"\"\n",
    "for c in s:\n",
    "    ac = ac + c + \"-\" + c + \"-\"\n",
    "\n",
    "print(ac)"
   ]
  },
  {
   "cell_type": "code",
   "execution_count": null,
   "metadata": {},
   "outputs": [],
   "source": []
  },
  {
   "cell_type": "markdown",
   "metadata": {},
   "source": [
    "## Accumulator Pattern Strategies\n",
    "\n",
    "    - When to use what accumulation pattern\n",
    "    \n",
    "    how many / how frequently                  count accumulation\n",
    "    totoal                                     sum accumulation\n",
    "    a list of                                  list accumulation\n",
    "    concatenate/ join together                 string accumulation"
   ]
  },
  {
   "cell_type": "markdown",
   "metadata": {},
   "source": [
    "## Before Writing it\n",
    "\n",
    "    - Questions to ask:\n",
    "    \n",
    "        - What sequence will you iterate through as you accumulate a result? e.g. \n",
    "            - a range of numbers, \n",
    "            - the letters in a string, \n",
    "            - or some existing list that you have just as a list of names.\n",
    "        \n",
    "        - What type of value will you accumulate?\n",
    "            - if your final result will be a list, start with a list.\n",
    "            - if your final result will be a string, you’ll probably want to start with a string\n",
    "            - If your final result will be a number, your accumulator will start out with a number\n",
    "        \n",
    "\n",
    "\n",
    "## Choosing Good Accumulator and Iterator Variable Names\n",
    "\n",
    "        - iterator variable should be a singular noun\n",
    "        \n",
    "        "
   ]
  },
  {
   "cell_type": "markdown",
   "metadata": {},
   "source": [
    "## Don't mute your list"
   ]
  },
  {
   "cell_type": "code",
   "execution_count": null,
   "metadata": {},
   "outputs": [],
   "source": [
    "colors = [\"Red\", \"Orange\", \"Yellow\", \"Green\", \"Blue\", \"Indigo\", \"Violet\", \"Purple\", \"Pink\", \"Brown\", \"Teal\", \"Turquois\", \"Peach\", \"Beige\"]\n",
    "\n",
    "for position in range(len(colors)):\n",
    "    color = colors[position]\n",
    "    print(color)\n",
    "    if color[0] in [\"P\", \"B\", \"T\"]:\n",
    "        del colors[position]\n",
    "\n",
    "print(colors)"
   ]
  },
  {
   "cell_type": "code",
   "execution_count": null,
   "metadata": {},
   "outputs": [],
   "source": []
  },
  {
   "cell_type": "markdown",
   "metadata": {},
   "source": [
    "#### Exercise1:\n",
    "In XYZ University, upper level math classes are numbered 300 and up. Upper level English classes are numbered 200 and up. Upper level Psychology classes are 400 and up. Create two lists, upper and lower. Assign each course in classes to the correct list, upper or lower. HINT: remember, you can convert some strings to different types!"
   ]
  },
  {
   "cell_type": "code",
   "execution_count": 103,
   "metadata": {},
   "outputs": [
    {
     "name": "stdout",
     "output_type": "stream",
     "text": [
      "Upper list: ['PSYCH 412', 'MATH 300', 'MATH 404', 'ENG 201', 'PSYCH 508', 'ENG 220']\n",
      "Lower list: ['MATH 150', 'PSYCH 111', 'PSYCH 313', 'MATH 206', 'ENG 100', 'ENG 103', 'ENG 125', 'ENG 124']\n"
     ]
    }
   ],
   "source": [
    "classes = [\"MATH 150\", \"PSYCH 111\", \"PSYCH 313\", \"PSYCH 412\", \"MATH 300\", \"MATH 404\", \"MATH 206\", \"ENG 100\", \"ENG 103\", \"ENG 201\", \"PSYCH 508\", \"ENG 220\", \"ENG 125\", \"ENG 124\"]\n",
    "\n",
    "upper = []\n",
    "lower = []\n",
    "\n",
    "for a_class in classes:\n",
    "    class_code = a_class.split()\n",
    "    class_name = class_code[0]\n",
    "    class_int = int(class_code[1])\n",
    "    \n",
    "    if class_name == \"MATH\" and class_int >= 300:\n",
    "        upper.append(a_class)\n",
    "        \n",
    "    elif class_name == \"ENG\" and class_int >= 200:\n",
    "        upper.append(a_class)\n",
    "        \n",
    "    elif class_name == \"PSYCH\" and class_int >= 400:\n",
    "        upper.append(a_class)\n",
    "        \n",
    "    else:\n",
    "        lower.append(a_class)\n",
    "        \n",
    "    \n",
    "print(\"Upper list:\", upper)\n",
    "print(\"Lower list:\", lower)\n",
    "\n",
    "\n",
    "\n"
   ]
  },
  {
   "cell_type": "code",
   "execution_count": 99,
   "metadata": {},
   "outputs": [
    {
     "data": {
      "text/plain": [
       "['MATH', '150']"
      ]
     },
     "execution_count": 99,
     "metadata": {},
     "output_type": "execute_result"
    }
   ],
   "source": [
    "\"MATH 150\".split()"
   ]
  },
  {
   "cell_type": "code",
   "execution_count": null,
   "metadata": {},
   "outputs": [],
   "source": []
  },
  {
   "cell_type": "markdown",
   "metadata": {},
   "source": [
    "#### Exercise 2: \n",
    "Starting with the list myList = [76, 92.3, ‘hello’, True, 4, 76], write Python statements to do the following:\n",
    "\n",
    "- Append “apple” and 76 to the list.\n",
    "- Insert the value “cat” at position 3.\n",
    "- Insert the value 99 at the start of the list.\n",
    "- Find the index of “hello”.\n",
    "- Count the number of 76s in the list.\n",
    "- Remove the first occurrence of 76 from the list.\n",
    "- Remove True from the list using pop and index."
   ]
  },
  {
   "cell_type": "code",
   "execution_count": 114,
   "metadata": {},
   "outputs": [
    {
     "name": "stdout",
     "output_type": "stream",
     "text": [
      "[99, 92.3, 'hello', 'cat', 4, 76, 'apple', 76]\n",
      "3\n",
      "3\n"
     ]
    }
   ],
   "source": [
    "myList = [76, 92.3, \"hello\", True, 4, 76]\n",
    "\n",
    "myList.append(\"apple\")\n",
    "myList.append(76)\n",
    "\n",
    "myList.insert(3, \"cat\")\n",
    "myList.insert(0, 99)\n",
    "\n",
    "ind = myList.index(\"hello\")\n",
    "\n",
    "count_76 = myList.count(76)\n",
    "\n",
    "myList.remove(76)  # remove the 1st occurance of item\n",
    "\n",
    "myList.pop(4)  \n",
    "\n",
    "print(myList)\n",
    "print(ind)\n",
    "print(count_76)"
   ]
  },
  {
   "cell_type": "code",
   "execution_count": null,
   "metadata": {},
   "outputs": [],
   "source": []
  },
  {
   "cell_type": "markdown",
   "metadata": {},
   "source": [
    "#### Exercise 3:\n",
    "\n",
    "- The module keyword determines if a string is a keyword. e.g. keyword.iskeyword(s) where s is a string will return either True or False, depending on whether or not the string is a Python keyword. \n",
    "\n",
    "- Import the keyword module and test to see whether each of the words in list test are keywords. \n",
    "\n",
    "- Save the respective answers in a list, keyword_test."
   ]
  },
  {
   "cell_type": "code",
   "execution_count": 115,
   "metadata": {},
   "outputs": [
    {
     "name": "stdout",
     "output_type": "stream",
     "text": [
      "[True, False, True, True]\n"
     ]
    }
   ],
   "source": [
    "import keyword\n",
    "\n",
    "test = [\"else\", \"integer\", \"except\", \"elif\"]\n",
    "keyword_test = []\n",
    "\n",
    "for word in test:\n",
    "    answer = keyword.iskeyword(word)\n",
    "    \n",
    "    keyword_test.append(answer)\n",
    "\n",
    "print(keyword_test)\n"
   ]
  },
  {
   "cell_type": "code",
   "execution_count": null,
   "metadata": {},
   "outputs": [],
   "source": []
  },
  {
   "cell_type": "markdown",
   "metadata": {},
   "source": [
    "#### Exercise 4: \n",
    "\n",
    "- The string module provides sequences of various types of Python characters. \n",
    "- It has an attribute called digits that produces the string ‘0123456789’. \n",
    "- Import the module and assign this string to the variable nums. \n",
    "- Below, we have provided a list of characters called chars. Using nums and chars, produce a list called is_num that consists of tuples. \n",
    "- The first element of each tuple should be the character from chars, and the second element should be a Boolean that reflects whether or not it is a Python digit."
   ]
  },
  {
   "cell_type": "code",
   "execution_count": 125,
   "metadata": {},
   "outputs": [
    {
     "name": "stdout",
     "output_type": "stream",
     "text": [
      "0123456789\n",
      "<class 'str'>\n",
      "11\n",
      "[('h', False), ('1', True), ('C', False), ('i', False), ('9', True), ('True', False), ('3.1', False), ('8', True), ('F', False), ('4', True), ('j', False)]\n"
     ]
    }
   ],
   "source": [
    "import string\n",
    "\n",
    "nums = string.digits\n",
    "print(nums)\n",
    "print(type(nums)) # str\n",
    "\n",
    "chars = ['h', '1', 'C', 'i', '9', 'True', '3.1', '8', 'F', '4', 'j']\n",
    "print(len(chars))\n",
    "\n",
    "is_num = []\n",
    "\n",
    "for a_char in chars:\n",
    "    bool_result = a_char in nums\n",
    "    tpl = (a_char, bool_result)\n",
    "    \n",
    "    is_num.append(tpl)\n",
    "    \n",
    "    \n",
    "print(is_num)\n"
   ]
  },
  {
   "cell_type": "code",
   "execution_count": null,
   "metadata": {},
   "outputs": [],
   "source": []
  },
  {
   "cell_type": "markdown",
   "metadata": {},
   "source": [
    "\n",
    "#### Exercise 5: \n",
    "Write code to create a list of word lengths for the words in original_str using the accumulation pattern and assign the answer to a variable num_words_list. (You should use the len function)."
   ]
  },
  {
   "cell_type": "code",
   "execution_count": 128,
   "metadata": {},
   "outputs": [
    {
     "name": "stdout",
     "output_type": "stream",
     "text": [
      "['The', 'quick', 'brown', 'rhino', 'jumped', 'over', 'the', 'extremely', 'lazy', 'fox']\n",
      "[3, 5, 5, 5, 6, 4, 3, 9, 4, 3]\n"
     ]
    }
   ],
   "source": [
    "original_str = \"The quick brown rhino jumped over the extremely lazy fox\"\n",
    "\n",
    "wrd_lst = original_str.split(\" \")\n",
    "print(wrd_lst)\n",
    "\n",
    "\n",
    "num_words_list = []\n",
    "\n",
    "for wrd in wrd_lst:\n",
    "    wrd_len = len(wrd)\n",
    "    num_words_list.append(wrd_len)\n",
    "    \n",
    "print(num_words_list)\n"
   ]
  },
  {
   "cell_type": "code",
   "execution_count": null,
   "metadata": {},
   "outputs": [],
   "source": []
  },
  {
   "cell_type": "markdown",
   "metadata": {},
   "source": [
    "#### Exercise6: \n",
    "\n",
    "- Write code that uses the string stored in org and creates an acronym which is assigned to the variable acro. \n",
    "- Only the first letter of each word should be used, \n",
    "- each letter in the acronym should be a capital letter, \n",
    "- and there should be nothing to separate the letters of the acronym. \n",
    "- Words that should not be included in the acronym are stored in the list stopwords. \n",
    "- For example, if org was assigned the string “hello to world” then the resulting acronym should be “HW”."
   ]
  },
  {
   "cell_type": "code",
   "execution_count": 131,
   "metadata": {},
   "outputs": [
    {
     "name": "stdout",
     "output_type": "stream",
     "text": [
      "OHSE\n"
     ]
    }
   ],
   "source": [
    "stopwords = ['to', 'a', 'for', 'by', 'an', 'am', 'the', 'so', 'it', 'and', \"The\"]\n",
    "org = \"The organization for health, safety, and education\"\n",
    "\n",
    "org_lst = org.split(\" \")\n",
    "\n",
    "acro = \"\"\n",
    "for wrd in org_lst:\n",
    "    if wrd not in stopwords:\n",
    "        wrd_capt =wrd[0]\n",
    "        wrd_Capt = wrd_capt.upper()\n",
    "        acro = acro+wrd_Capt\n",
    "        \n",
    "print(acro)\n",
    "\n",
    "        "
   ]
  },
  {
   "cell_type": "code",
   "execution_count": null,
   "metadata": {},
   "outputs": [],
   "source": []
  },
  {
   "cell_type": "markdown",
   "metadata": {},
   "source": [
    "#### Exersice 7: \n",
    "\n",
    "- Write code that uses the string stored in sent and creates an acronym which is assigned to the variable acro. \n",
    "- The first two letters of each word should be used, \n",
    "- each letter in the acronym should be a capital letter, \n",
    "- and each element of the acronym should be separated by a “. ” (dot and space). \n",
    "- Words that should not be included in the acronym are stored in the list stopwords. \n",
    "- For example, if sent was assigned the string “height and ewok wonder” then the resulting acronym should be “HE. EW. WO”."
   ]
  },
  {
   "cell_type": "code",
   "execution_count": 140,
   "metadata": {},
   "outputs": [
    {
     "name": "stdout",
     "output_type": "stream",
     "text": [
      "WA. EA. AI. AR. VI. \n",
      "WA. EA. AI. AR. VI\n"
     ]
    }
   ],
   "source": [
    "stopwords = ['to', 'a', 'for', 'by', 'an', 'am', 'the', 'so', 'it', 'and', 'The']\n",
    "sent = \"The water earth and air are vital\"\n",
    "\n",
    "\n",
    "sent_lst = sent.split(\" \")\n",
    "\n",
    "acro = \"\"\n",
    "for wrd in sent_lst:\n",
    "    if wrd not in stopwords:\n",
    "        wrd_2caps = wrd[0:2]\n",
    "        wrd_2Caps = wrd_2caps.upper()\n",
    "        acro = acro + wrd_2Caps + \". \"\n",
    "\n",
    "        \n",
    "print(acro)\n",
    "\n",
    "print(acro[:-2])\n",
    "    \n",
    "\n",
    "\n"
   ]
  },
  {
   "cell_type": "code",
   "execution_count": null,
   "metadata": {},
   "outputs": [],
   "source": []
  },
  {
   "cell_type": "markdown",
   "metadata": {},
   "source": [
    "#### Exersice 8:\n",
    "\n",
    "- A palindrome is a phrase that, if reversed, would read the exact same. \n",
    "- Write code that checks if p_phrase is a palindrome by reversing it and then checking if the reversed version is equal to the original. \n",
    "- Assign the reversed version of p_phrase to the variable r_phrase so that we can check your work."
   ]
  },
  {
   "cell_type": "code",
   "execution_count": 155,
   "metadata": {},
   "outputs": [
    {
     "name": "stdout",
     "output_type": "stream",
     "text": [
      "['was', 'it', 'a', 'car', 'or', 'a', 'cat', 'I', 'saw']\n",
      "wasItacaroracatisaw\n",
      "was I tac a ro rac a ti saw\n"
     ]
    },
    {
     "data": {
      "text/plain": [
       "False"
      ]
     },
     "execution_count": 155,
     "metadata": {},
     "output_type": "execute_result"
    }
   ],
   "source": [
    "p_phrase = \"was it a car or a cat I saw\"\n",
    "\n",
    "\n",
    "p_lst = p_phrase.split(\" \")\n",
    "print(p_lst)\n",
    "\n",
    "r_str = \"\"\n",
    "for wrd in p_lst:\n",
    "    for a_char in wrd:\n",
    "        r_str = a_char + r_str\n",
    "        \n",
    "print(r_str)\n",
    "\n",
    "r_phrase = \"was{}I{}tac{}a{}ro{}rac{}a{}ti{}saw\".format(\" \", \" \", \" \",\" \", \" \", \" \", \" \", \" \")\n",
    "print(r_phrase)\n",
    "\n",
    "\n",
    "r_phrase == p_phrase"
   ]
  },
  {
   "cell_type": "code",
   "execution_count": 156,
   "metadata": {},
   "outputs": [
    {
     "name": "stdout",
     "output_type": "stream",
     "text": [
      "was I tac a ro rac a ti saw\n"
     ]
    }
   ],
   "source": [
    "r_str = \"\"\n",
    "for a_char in p_phrase:\n",
    "        r_str = a_char + r_str\n",
    "        \n",
    "print(r_str)"
   ]
  },
  {
   "cell_type": "code",
   "execution_count": null,
   "metadata": {},
   "outputs": [],
   "source": []
  },
  {
   "cell_type": "markdown",
   "metadata": {},
   "source": [
    "#### Exercise 9: \n",
    "\n",
    "- Provided is a list of data about a store’s inventory where each item in the list represents the name of an item, how much is in stock, and how much it costs. \n",
    "- Print out each item in the list with the same formatting, using the .format method (not string concatenation). \n",
    "- For example, the first print statment should read The store has 12 shoes, each for 29.99 USD."
   ]
  },
  {
   "cell_type": "code",
   "execution_count": 160,
   "metadata": {},
   "outputs": [
    {
     "name": "stdout",
     "output_type": "stream",
     "text": [
      "The store has 12 shoes, each for 29.99 USD.\n",
      "The store has 20 shirts, each for 9.99 USD.\n",
      "The store has 25 sweatpants, each for 15.00 USD.\n",
      "The store has 13 scarves, each for 7.75 USD.\n"
     ]
    }
   ],
   "source": [
    "inventory = [\"shoes, 12, 29.99\", \"shirts, 20, 9.99\", \"sweatpants, 25, 15.00\", \"scarves, 13, 7.75\"]\n",
    "\n",
    "for item in inventory:\n",
    "    item_lst = item.split(\",\")\n",
    "    print(\"The store has{} {}, each for{} USD.\".format(item_lst[1], item_lst[0], item_lst[2]))"
   ]
  },
  {
   "cell_type": "code",
   "execution_count": null,
   "metadata": {},
   "outputs": [],
   "source": []
  },
  {
   "cell_type": "code",
   "execution_count": null,
   "metadata": {},
   "outputs": [],
   "source": []
  },
  {
   "cell_type": "code",
   "execution_count": null,
   "metadata": {},
   "outputs": [],
   "source": []
  },
  {
   "cell_type": "code",
   "execution_count": null,
   "metadata": {},
   "outputs": [],
   "source": []
  },
  {
   "cell_type": "code",
   "execution_count": null,
   "metadata": {},
   "outputs": [],
   "source": []
  },
  {
   "cell_type": "code",
   "execution_count": null,
   "metadata": {},
   "outputs": [],
   "source": []
  },
  {
   "cell_type": "code",
   "execution_count": null,
   "metadata": {},
   "outputs": [],
   "source": []
  },
  {
   "cell_type": "code",
   "execution_count": null,
   "metadata": {},
   "outputs": [],
   "source": []
  },
  {
   "cell_type": "code",
   "execution_count": null,
   "metadata": {},
   "outputs": [],
   "source": []
  },
  {
   "cell_type": "code",
   "execution_count": null,
   "metadata": {},
   "outputs": [],
   "source": []
  },
  {
   "cell_type": "code",
   "execution_count": null,
   "metadata": {},
   "outputs": [],
   "source": []
  },
  {
   "cell_type": "code",
   "execution_count": null,
   "metadata": {},
   "outputs": [],
   "source": []
  },
  {
   "cell_type": "code",
   "execution_count": null,
   "metadata": {},
   "outputs": [],
   "source": []
  },
  {
   "cell_type": "code",
   "execution_count": null,
   "metadata": {},
   "outputs": [],
   "source": []
  },
  {
   "cell_type": "code",
   "execution_count": null,
   "metadata": {},
   "outputs": [],
   "source": []
  },
  {
   "cell_type": "code",
   "execution_count": null,
   "metadata": {},
   "outputs": [],
   "source": []
  },
  {
   "cell_type": "code",
   "execution_count": null,
   "metadata": {},
   "outputs": [],
   "source": []
  },
  {
   "cell_type": "code",
   "execution_count": null,
   "metadata": {},
   "outputs": [],
   "source": []
  },
  {
   "cell_type": "code",
   "execution_count": null,
   "metadata": {},
   "outputs": [],
   "source": []
  },
  {
   "cell_type": "code",
   "execution_count": null,
   "metadata": {},
   "outputs": [],
   "source": []
  },
  {
   "cell_type": "code",
   "execution_count": null,
   "metadata": {},
   "outputs": [],
   "source": []
  },
  {
   "cell_type": "code",
   "execution_count": null,
   "metadata": {},
   "outputs": [],
   "source": []
  },
  {
   "cell_type": "code",
   "execution_count": null,
   "metadata": {},
   "outputs": [],
   "source": []
  },
  {
   "cell_type": "code",
   "execution_count": null,
   "metadata": {},
   "outputs": [],
   "source": []
  },
  {
   "cell_type": "code",
   "execution_count": null,
   "metadata": {},
   "outputs": [],
   "source": []
  },
  {
   "cell_type": "code",
   "execution_count": null,
   "metadata": {},
   "outputs": [],
   "source": []
  },
  {
   "cell_type": "code",
   "execution_count": null,
   "metadata": {},
   "outputs": [],
   "source": []
  },
  {
   "cell_type": "code",
   "execution_count": null,
   "metadata": {},
   "outputs": [],
   "source": []
  },
  {
   "cell_type": "code",
   "execution_count": null,
   "metadata": {},
   "outputs": [],
   "source": []
  },
  {
   "cell_type": "code",
   "execution_count": null,
   "metadata": {},
   "outputs": [],
   "source": []
  },
  {
   "cell_type": "code",
   "execution_count": null,
   "metadata": {},
   "outputs": [],
   "source": []
  },
  {
   "cell_type": "code",
   "execution_count": null,
   "metadata": {},
   "outputs": [],
   "source": []
  },
  {
   "cell_type": "code",
   "execution_count": null,
   "metadata": {},
   "outputs": [],
   "source": []
  },
  {
   "cell_type": "code",
   "execution_count": null,
   "metadata": {},
   "outputs": [],
   "source": []
  },
  {
   "cell_type": "code",
   "execution_count": null,
   "metadata": {},
   "outputs": [],
   "source": []
  },
  {
   "cell_type": "code",
   "execution_count": null,
   "metadata": {},
   "outputs": [],
   "source": []
  },
  {
   "cell_type": "code",
   "execution_count": null,
   "metadata": {},
   "outputs": [],
   "source": []
  },
  {
   "cell_type": "code",
   "execution_count": null,
   "metadata": {},
   "outputs": [],
   "source": []
  },
  {
   "cell_type": "code",
   "execution_count": null,
   "metadata": {},
   "outputs": [],
   "source": []
  },
  {
   "cell_type": "code",
   "execution_count": null,
   "metadata": {},
   "outputs": [],
   "source": []
  },
  {
   "cell_type": "code",
   "execution_count": null,
   "metadata": {},
   "outputs": [],
   "source": []
  },
  {
   "cell_type": "code",
   "execution_count": null,
   "metadata": {},
   "outputs": [],
   "source": []
  },
  {
   "cell_type": "code",
   "execution_count": null,
   "metadata": {},
   "outputs": [],
   "source": []
  },
  {
   "cell_type": "code",
   "execution_count": null,
   "metadata": {},
   "outputs": [],
   "source": []
  },
  {
   "cell_type": "code",
   "execution_count": null,
   "metadata": {},
   "outputs": [],
   "source": []
  },
  {
   "cell_type": "code",
   "execution_count": null,
   "metadata": {},
   "outputs": [],
   "source": []
  },
  {
   "cell_type": "code",
   "execution_count": null,
   "metadata": {},
   "outputs": [],
   "source": []
  },
  {
   "cell_type": "code",
   "execution_count": null,
   "metadata": {},
   "outputs": [],
   "source": []
  },
  {
   "cell_type": "code",
   "execution_count": null,
   "metadata": {},
   "outputs": [],
   "source": []
  }
 ],
 "metadata": {
  "kernelspec": {
   "display_name": "Python 3",
   "language": "python",
   "name": "python3"
  },
  "language_info": {
   "codemirror_mode": {
    "name": "ipython",
    "version": 3
   },
   "file_extension": ".py",
   "mimetype": "text/x-python",
   "name": "python",
   "nbconvert_exporter": "python",
   "pygments_lexer": "ipython3",
   "version": "3.7.3"
  }
 },
 "nbformat": 4,
 "nbformat_minor": 2
}
