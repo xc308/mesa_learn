{
 "cells": [
  {
   "cell_type": "markdown",
   "metadata": {},
   "source": [
    "## Contionals (Selction)\n",
    "\n",
    "\n",
    "    -  check conditions and change the behavior of the program accordingly\n",
    "\n"
   ]
  },
  {
   "cell_type": "code",
   "execution_count": null,
   "metadata": {},
   "outputs": [],
   "source": []
  },
  {
   "cell_type": "markdown",
   "metadata": {},
   "source": [
    "### Boolean Values and Boolean Expressions\n",
    "\n",
    "    - The Python type for storing true and false values is called bool\n",
    "    - There are only two boolean values. They are True and False\n",
    "    - Capitalization is important, since true and false are not boolean values\n",
    "    "
   ]
  },
  {
   "cell_type": "code",
   "execution_count": 1,
   "metadata": {},
   "outputs": [
    {
     "name": "stdout",
     "output_type": "stream",
     "text": [
      "<class 'bool'>\n",
      "<class 'bool'>\n"
     ]
    }
   ],
   "source": [
    "print(type(True))\n",
    "print(type(False))"
   ]
  },
  {
   "cell_type": "markdown",
   "metadata": {},
   "source": [
    "* True and False are string!! They are not surrounded by quotes\n",
    "* They are the only two values in the data type bool"
   ]
  },
  {
   "cell_type": "code",
   "execution_count": 2,
   "metadata": {},
   "outputs": [
    {
     "name": "stdout",
     "output_type": "stream",
     "text": [
      "<class 'bool'>\n",
      "<class 'str'>\n"
     ]
    }
   ],
   "source": [
    "print(type(True))\n",
    "print(type(\"True\"))"
   ]
  },
  {
   "cell_type": "code",
   "execution_count": null,
   "metadata": {},
   "outputs": [],
   "source": []
  },
  {
   "cell_type": "markdown",
   "metadata": {},
   "source": [
    "### A boolean expression\n",
    "\n",
    "    - is an expression that evaluates to a boolean value.\n",
    "    - The equality operator, ==, compares two values and produces a boolean value related to whether the two values are equal to one another."
   ]
  },
  {
   "cell_type": "code",
   "execution_count": 3,
   "metadata": {},
   "outputs": [
    {
     "name": "stdout",
     "output_type": "stream",
     "text": [
      "True\n",
      "False\n"
     ]
    }
   ],
   "source": [
    "print(5 == 5)\n",
    "print(5 == 6)"
   ]
  },
  {
   "cell_type": "code",
   "execution_count": null,
   "metadata": {},
   "outputs": [],
   "source": []
  },
  {
   "cell_type": "markdown",
   "metadata": {},
   "source": [
    "### Comparision operators\n",
    "\n",
    "        x != y               # x is not equal to y\n",
    "        x > y                # x is greater than y\n",
    "        x < y                # x is less than y\n",
    "        x >= y               # x is greater than or equal to y\n",
    "        x <= y               # x is less than or equal to y"
   ]
  },
  {
   "cell_type": "code",
   "execution_count": null,
   "metadata": {},
   "outputs": [],
   "source": []
  },
  {
   "cell_type": "markdown",
   "metadata": {},
   "source": [
    "###  Logical operators\n",
    "\n",
    "    - There are three logical operators: and, or, and not\n",
    "    \n",
    "    - x > 0 and x < 10 is true only if x is greater than 0 and at the same time, x is less than 10.\n",
    "    \n",
    "    - n % 2 == 0 or n % 3 == 0 is true if either of the conditions is true, that's one, or the other, or both of the parts has to be true for the result to be true.\n",
    "    \n",
    "    - not operator negates a boolean expression, so not  x > y is true if x > y is false, that is, if x is less than or equal to y."
   ]
  },
  {
   "cell_type": "code",
   "execution_count": null,
   "metadata": {},
   "outputs": [],
   "source": []
  },
  {
   "cell_type": "markdown",
   "metadata": {},
   "source": [
    "### The in and not in operators¶\n",
    "\n",
    "\n",
    "    - The in operator tests if one string is a substring of another\n",
    "    - Note: a string is a substring of itself, and the empty string is a substring of any other string"
   ]
  },
  {
   "cell_type": "code",
   "execution_count": 5,
   "metadata": {},
   "outputs": [
    {
     "name": "stdout",
     "output_type": "stream",
     "text": [
      "True\n",
      "False\n"
     ]
    }
   ],
   "source": [
    "print(\"a\" in \"apple\")\n",
    "print(\"ai\" in \"apple\")"
   ]
  },
  {
   "cell_type": "code",
   "execution_count": 7,
   "metadata": {},
   "outputs": [
    {
     "name": "stdout",
     "output_type": "stream",
     "text": [
      "True\n",
      "True\n",
      "True\n",
      "True\n"
     ]
    }
   ],
   "source": [
    "print(\"a\" in \"a\")\n",
    "print(\"\" in \"a\")\n",
    "\n",
    "print(\"apple\" in \"apple\")\n",
    "print(\"\" in \"apple\")"
   ]
  },
  {
   "cell_type": "markdown",
   "metadata": {},
   "source": [
    "#### The not in operator returns the logical opposite result of in."
   ]
  },
  {
   "cell_type": "code",
   "execution_count": 8,
   "metadata": {},
   "outputs": [
    {
     "name": "stdout",
     "output_type": "stream",
     "text": [
      "True\n"
     ]
    }
   ],
   "source": [
    "print(\"b\" not in \"apple\")"
   ]
  },
  {
   "cell_type": "code",
   "execution_count": null,
   "metadata": {},
   "outputs": [],
   "source": []
  },
  {
   "cell_type": "markdown",
   "metadata": {},
   "source": [
    "#### can also use the in and not in operators on lists!"
   ]
  },
  {
   "cell_type": "code",
   "execution_count": 11,
   "metadata": {},
   "outputs": [
    {
     "name": "stdout",
     "output_type": "stream",
     "text": [
      "True\n",
      "True\n",
      "False\n"
     ]
    }
   ],
   "source": [
    "print(\"a\" in [\"a\", \"b\", \"c\"])\n",
    "print(9 in [3, 2, 9, 10, 9.0])\n",
    "print('wow' not in ['gee wiz', 'gosh golly', 'wow', 'amazing'])\n",
    "\n",
    "\n"
   ]
  },
  {
   "cell_type": "code",
   "execution_count": 12,
   "metadata": {},
   "outputs": [
    {
     "name": "stdout",
     "output_type": "stream",
     "text": [
      "False\n"
     ]
    }
   ],
   "source": [
    "print(\"a\" in [\"apple\", \"absolutely\", \"application\", \"nope\"])\n"
   ]
  },
  {
   "cell_type": "markdown",
   "metadata": {},
   "source": [
    "* When we use the in and not in operators on lists, Python checks to see if the item on the left side of the expression is equivalent to an element in the item on the right side of the expression"
   ]
  },
  {
   "cell_type": "code",
   "execution_count": null,
   "metadata": {},
   "outputs": [],
   "source": []
  },
  {
   "cell_type": "markdown",
   "metadata": {},
   "source": [
    "## Precedence of operators \n",
    "(precedence: priority in importance, order, or rank)\n",
    "\n",
    "\n",
    "    - Arithmetic operators take precedence over logical operators\n",
    "    - Python will always evaluate the arithmetic operators first \n",
    "        - ** is highest, then multiplication/division, then addition/subtraction\n",
    "    - Next comes the relational operators\n",
    "    - Finally, the logical operators are done last.\n",
    "    \n",
    "    e.g. x*5 >= 10 and y-6 <= 20 will be evaluated so as to \n",
    "        - first perform the arithmetic \n",
    "        - and then check the relationships\n",
    "        - the and will be done last\n",
    "        \n",
    "        \n",
    "    Level    Category                 Operators\n",
    "    7(high)   exponent                   **\n",
    "    6         multipication            *, /, //, %,\n",
    "    5         arithemetic               +, - \n",
    "    4         relational                ==, !=, >=, >, <=, <\n",
    "    3         logical                   not\n",
    "    2         logical                   and\n",
    "    1(low)    logical                   or"
   ]
  },
  {
   "cell_type": "code",
   "execution_count": null,
   "metadata": {},
   "outputs": [],
   "source": []
  },
  {
   "cell_type": "markdown",
   "metadata": {},
   "source": [
    "## Conditional Execution: Binary Selection\n",
    "\n",
    "    - always need the ability to check conditions and change the behavior of the program accordingly\n",
    "    - Selection statements, sometimes also referred to as conditional statements, give us this ability\n",
    "        - The simplest form of selection is the if statement\n",
    "        - This is sometimes referred to as binary selection since there are two possible paths of execution"
   ]
  },
  {
   "cell_type": "code",
   "execution_count": 13,
   "metadata": {},
   "outputs": [
    {
     "name": "stdout",
     "output_type": "stream",
     "text": [
      "15 is odd\n"
     ]
    }
   ],
   "source": [
    "x = 15\n",
    "\n",
    "if x % 2 == 0:\n",
    "    print(x, \"is even\")\n",
    "else:\n",
    "    print(x, \"is odd\")"
   ]
  },
  {
   "cell_type": "markdown",
   "metadata": {},
   "source": [
    "* the if statement consists of a header line and a body. \n",
    "* The header line begins with the keyword if followed by a boolean expression and ends with a colon (:).\n",
    "\n",
    "* the indented statements that follow are called a block\n",
    "* The first unindented statement marks the end of the block."
   ]
  },
  {
   "cell_type": "code",
   "execution_count": null,
   "metadata": {},
   "outputs": [],
   "source": []
  },
  {
   "cell_type": "markdown",
   "metadata": {},
   "source": [
    "## Omitting the else Clause: Unary Selection¶\n",
    "\n",
    "\n",
    "    - Another form of the if statement is one in which the else clause is omitted entirely, called  unary selection\n",
    "   \n",
    "    - when the condition evaluates to True, the statements are executed. \n",
    "    - Otherwise the flow of execution continues to the statement after the body of the if."
   ]
  },
  {
   "cell_type": "code",
   "execution_count": null,
   "metadata": {},
   "outputs": [],
   "source": []
  },
  {
   "cell_type": "markdown",
   "metadata": {},
   "source": [
    "## Nested conditionals\n",
    "\n",
    "    - One conditional can also be nested within another. \n",
    "    \n",
    "   "
   ]
  },
  {
   "cell_type": "code",
   "execution_count": null,
   "metadata": {},
   "outputs": [],
   "source": [
    "if x < y:\n",
    "    print(\"x is less than y\")\n",
    "else:\n",
    "    if x > y:\n",
    "        print(\"x is greater than y\")\n",
    "    else:\n",
    "        print(\"x must be equal to y\")"
   ]
  },
  {
   "cell_type": "code",
   "execution_count": null,
   "metadata": {},
   "outputs": [],
   "source": []
  },
  {
   "cell_type": "markdown",
   "metadata": {},
   "source": [
    "## Chained conditionals¶ (only the first true branch executes)\n",
    "\n",
    "\n",
    "    - an alternative way to write nested selection, sometimes referred to as a chained conditional.\n",
    "    - Each condition is checked in order. \n",
    "    - If the first is false, the next is checked, and so on. \n",
    "    - If one of them is true, the corresponding branch executes, and the statement ends. \n",
    "    - Even if more than one condition is true, only the first true branch executes."
   ]
  },
  {
   "cell_type": "code",
   "execution_count": null,
   "metadata": {},
   "outputs": [],
   "source": [
    "if x < y:\n",
    "    print(\"x is less than y\")\n",
    "elif x > y:\n",
    "    print(\"x is greater than y\")\n",
    "else:\n",
    "    print(\"x and y must be equal\")"
   ]
  },
  {
   "cell_type": "code",
   "execution_count": null,
   "metadata": {},
   "outputs": [],
   "source": []
  },
  {
   "cell_type": "code",
   "execution_count": null,
   "metadata": {},
   "outputs": [],
   "source": []
  },
  {
   "cell_type": "markdown",
   "metadata": {},
   "source": [
    "#### Exercise: Create an empty list called resps. Using the list percent_rain, for each percent, if it is above 90, add the string ‘Bring an umbrella.’ to resps, otherwise if it is above 80, add the string ‘Good for the flowers?’ to resps, otherwise if it is above 50, add the string ‘Watch out for clouds!’ to resps, otherwise, add the string ‘Nice day!’ to resps. Note: if you’re sure you’ve got the problem right but it doesn’t pass, then check that you’ve matched up the strings exactly."
   ]
  },
  {
   "cell_type": "code",
   "execution_count": 27,
   "metadata": {},
   "outputs": [
    {
     "name": "stdout",
     "output_type": "stream",
     "text": [
      "['Bring an umbrella.', 'Nice day!', 'Bring an umbrella.', 'Watch out for clouds!', 'Nice day!', 'Nice day!', 'Watch out for clouds!', 'Good for the flowers?']\n"
     ]
    }
   ],
   "source": [
    "percent_rain = [94.3, 45, 100, 78, 16, 5.3, 79, 86]\n",
    "\n",
    "resps = []   # empty list\n",
    "for each_perc in percent_rain:\n",
    "    if each_perc > 90:\n",
    "        resps_new = [\"Bring an umbrella.\"]  # convert string to list for next update\n",
    "        resps = resps + resps_new  # list can only concatenate with list\n",
    "        \n",
    "    elif each_perc > 80:\n",
    "        resps_new = [\"Good for the flowers?\"]\n",
    "        resps = resps + resps_new\n",
    "    \n",
    "    elif each_perc > 50:\n",
    "        resps_new = [\"Watch out for clouds!\"]\n",
    "        resps = resps + resps_new\n",
    "     \n",
    "    else:\n",
    "        resps_new = [\"Nice day!\"]\n",
    "        resps = resps + resps_new\n",
    "        \n",
    "\n",
    "\n",
    "print(resps)"
   ]
  },
  {
   "cell_type": "code",
   "execution_count": 29,
   "metadata": {},
   "outputs": [
    {
     "name": "stdout",
     "output_type": "stream",
     "text": [
      "['Bring an umbrella.', 'Nice day!', 'Bring an umbrella.', 'Watch out for clouds!', 'Nice day!', 'Nice day!', 'Watch out for clouds!', 'Good for the flowers?']\n"
     ]
    }
   ],
   "source": [
    "percent_rain = [94.3, 45, 100, 78, 16, 5.3, 79, 86]\n",
    "\n",
    "\n",
    "resps = []\n",
    "for each_perc in percent_rain:\n",
    "    if each_perc > 90:\n",
    "        resps.append(\"Bring an umbrella.\")\n",
    "        \n",
    "    elif each_perc > 80:\n",
    "        resps.append(\"Good for the flowers?\")\n",
    "        \n",
    "    elif each_perc > 50:\n",
    "        resps.append(\"Watch out for clouds!\")\n",
    "    else:\n",
    "        resps.append(\"Nice day!\")\n",
    "        \n",
    "print(resps)"
   ]
  },
  {
   "cell_type": "markdown",
   "metadata": {},
   "source": [
    "## shift + tab = shortcut for help file\n"
   ]
  },
  {
   "cell_type": "markdown",
   "metadata": {},
   "source": [
    "### The append() method adds an item to the end of the list.\n",
    "    - list.append(item)\n",
    "    "
   ]
  },
  {
   "cell_type": "code",
   "execution_count": null,
   "metadata": {},
   "outputs": [],
   "source": []
  },
  {
   "cell_type": "code",
   "execution_count": null,
   "metadata": {},
   "outputs": [],
   "source": []
  },
  {
   "cell_type": "markdown",
   "metadata": {},
   "source": [
    "## The Accumulator Pattern with Conditionals\n",
    "\n",
    "    - Sometimes when we’re accumulating, we don’t want to add to our accumulator every time we iterate. \n",
    "    - e.g. we only want to accumulate the letter counts, space is not included"
   ]
  },
  {
   "cell_type": "code",
   "execution_count": 42,
   "metadata": {},
   "outputs": [
    {
     "name": "stdout",
     "output_type": "stream",
     "text": [
      "26\n"
     ]
    }
   ],
   "source": [
    "phrase = \"What a wonderful day to program\"\n",
    "\n",
    "count_tot = 0\n",
    "for a_char in phrase:\n",
    "    if a_char != \" \":   # space\"  \", empty \"\"\n",
    "        count_tot = count_tot + 1\n",
    "        \n",
    "print(count_tot)"
   ]
  },
  {
   "cell_type": "markdown",
   "metadata": {},
   "source": [
    "#### Note: space \"         \",   empty \"\""
   ]
  },
  {
   "cell_type": "markdown",
   "metadata": {},
   "source": [
    "#### can use conditionals to also count if particular items are in a string or list, e.g. finds all occurrences of vowels in the following string."
   ]
  },
  {
   "cell_type": "code",
   "execution_count": 43,
   "metadata": {},
   "outputs": [
    {
     "name": "stdout",
     "output_type": "stream",
     "text": [
      "8\n"
     ]
    }
   ],
   "source": [
    "s = \"what if we went to the zoo\"\n",
    "\n",
    "count = 0\n",
    "for letter in s:\n",
    "    if letter in [\"a\", \"e\", \"i\", \"o\", \"u\"]:\n",
    "        count = count + 1\n",
    "        \n",
    "print(count)"
   ]
  },
  {
   "cell_type": "markdown",
   "metadata": {},
   "source": [
    "#### e.g. find how many \"o\" in the word"
   ]
  },
  {
   "cell_type": "code",
   "execution_count": 44,
   "metadata": {},
   "outputs": [
    {
     "name": "stdout",
     "output_type": "stream",
     "text": [
      "5\n"
     ]
    }
   ],
   "source": [
    "word = \"onomanotoniou\"\n",
    "\n",
    "count = 0\n",
    "for letter in word:\n",
    "    if letter == \"o\":\n",
    "        count = count + 1\n",
    "print(count)"
   ]
  },
  {
   "cell_type": "code",
   "execution_count": null,
   "metadata": {},
   "outputs": [],
   "source": []
  },
  {
   "cell_type": "markdown",
   "metadata": {},
   "source": [
    "\n",
    "## Accumulating the Max Value\n",
    "\n",
    "    -  can also use the accumulation pattern with conditionals to find the maximum or minimum value. \n",
    "    \n",
    "    - Instead of continuing to build up the accumulator value like we have when counting or finding a sum, we can reassign the accumulator variable to a different value\n",
    "    \n",
    "    - Example:  can get the maximum value from a list of integers."
   ]
  },
  {
   "cell_type": "code",
   "execution_count": 46,
   "metadata": {},
   "outputs": [
    {
     "name": "stdout",
     "output_type": "stream",
     "text": [
      "29 is the maximum\n"
     ]
    }
   ],
   "source": [
    "nums = [9, 3, 8, 11, 5, 29, 2]\n",
    "\n",
    "num_max = 0\n",
    "for num in nums:\n",
    "    if num > num_max:\n",
    "        num_max = num   # use iterator update guess target\n",
    "        \n",
    "print(num_max, \"is the maximum\")"
   ]
  },
  {
   "cell_type": "code",
   "execution_count": 47,
   "metadata": {},
   "outputs": [
    {
     "name": "stdout",
     "output_type": "stream",
     "text": [
      "2\n"
     ]
    }
   ],
   "source": [
    "num_min = 29\n",
    "\n",
    "for num in nums:\n",
    "    if num < num_min:\n",
    "        num_min = num\n",
    "\n",
    "print(num_min)       "
   ]
  },
  {
   "cell_type": "markdown",
   "metadata": {},
   "source": [
    "#### Rethink: what if there are all negative numbers in the list? \n",
    "\n",
    "    - so to get around this issue, we can use one of the numbers in the list to initialize the accumulator (target)"
   ]
  },
  {
   "cell_type": "code",
   "execution_count": 48,
   "metadata": {},
   "outputs": [
    {
     "name": "stdout",
     "output_type": "stream",
     "text": [
      "29\n"
     ]
    }
   ],
   "source": [
    "nums = [9, 3, 8, 11, 5, 29, 2]\n",
    "\n",
    "num_max = nums[0]   # the initial accumulator is the 1st element of the list\n",
    "\n",
    "for num in nums:\n",
    "    if num > num_max:\n",
    "        num_max = num\n",
    "        \n",
    "print(num_max)"
   ]
  },
  {
   "cell_type": "code",
   "execution_count": null,
   "metadata": {},
   "outputs": [],
   "source": []
  },
  {
   "cell_type": "markdown",
   "metadata": {},
   "source": [
    "### Exercise: For each word in words, add ‘d’ to the end of the word if the word ends in “e” to make it past tense. Otherwise, add ‘ed’ to make it past tense. Save these past tense words to a list called past_tense."
   ]
  },
  {
   "cell_type": "code",
   "execution_count": 51,
   "metadata": {},
   "outputs": [
    {
     "name": "stdout",
     "output_type": "stream",
     "text": [
      "The past tense of the words are: ['adopted', 'baked', 'beamed', 'confided', 'grilled', 'planted', 'timed', 'waved', 'wished']\n"
     ]
    }
   ],
   "source": [
    "words = [\"adopt\", \"bake\", \"beam\", \"confide\", \"grill\", \"plant\", \"time\", \"wave\", \"wish\"]\n",
    "\n",
    "\n",
    "past_tense = []\n",
    "\n",
    "for word in words:\n",
    "    if word[-1] == \"e\":\n",
    "        pst_wd = word + \"d\"\n",
    "        past_tense.append(pst_wd)\n",
    "        \n",
    "    else:\n",
    "        pst_wd = word + \"ed\"\n",
    "        past_tense.append(pst_wd)\n",
    "        \n",
    "print(\"The past tense of the words are:\", past_tense)"
   ]
  },
  {
   "cell_type": "code",
   "execution_count": 49,
   "metadata": {},
   "outputs": [
    {
     "data": {
      "text/plain": [
       "'t'"
      ]
     },
     "execution_count": 49,
     "metadata": {},
     "output_type": "execute_result"
    }
   ],
   "source": [
    "a = \"adopt\"\n",
    "a[-1]"
   ]
  },
  {
   "cell_type": "code",
   "execution_count": null,
   "metadata": {},
   "outputs": [],
   "source": []
  },
  {
   "cell_type": "markdown",
   "metadata": {},
   "source": [
    "## Setting Up Conditionals¶\n",
    "\n",
    "    - Before writing your conditionals, it can be helpful to make your own flowchart that will plot out the flow of each condition. \n",
    "    - By writing out the flow, you can better determine how complex the set of conditionals will be as well as check to see if any condition is not taken care of before you begin writing it out.\n",
    "    \n",
    "    - To make sure that your code covers all of the conditions that you intend for it to cover, you should add comments for each clause that explains what that clause is meant to do\n",
    "    \n",
    "    - Then, you should add tests for each possible path that the program could go though,\n",
    "    \n",
    "    - What leads to certain conditional statements being executed? "
   ]
  },
  {
   "cell_type": "code",
   "execution_count": null,
   "metadata": {},
   "outputs": [],
   "source": []
  },
  {
   "cell_type": "code",
   "execution_count": null,
   "metadata": {},
   "outputs": [],
   "source": []
  },
  {
   "cell_type": "code",
   "execution_count": null,
   "metadata": {},
   "outputs": [],
   "source": []
  },
  {
   "cell_type": "code",
   "execution_count": null,
   "metadata": {},
   "outputs": [],
   "source": []
  },
  {
   "cell_type": "code",
   "execution_count": null,
   "metadata": {},
   "outputs": [],
   "source": []
  },
  {
   "cell_type": "code",
   "execution_count": null,
   "metadata": {},
   "outputs": [],
   "source": []
  },
  {
   "cell_type": "code",
   "execution_count": null,
   "metadata": {},
   "outputs": [],
   "source": []
  },
  {
   "cell_type": "code",
   "execution_count": null,
   "metadata": {},
   "outputs": [],
   "source": []
  }
 ],
 "metadata": {
  "kernelspec": {
   "display_name": "Python 3",
   "language": "python",
   "name": "python3"
  },
  "language_info": {
   "codemirror_mode": {
    "name": "ipython",
    "version": 3
   },
   "file_extension": ".py",
   "mimetype": "text/x-python",
   "name": "python",
   "nbconvert_exporter": "python",
   "pygments_lexer": "ipython3",
   "version": "3.7.3"
  }
 },
 "nbformat": 4,
 "nbformat_minor": 2
}
